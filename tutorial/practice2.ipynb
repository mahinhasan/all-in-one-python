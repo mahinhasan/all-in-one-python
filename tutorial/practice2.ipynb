{
 "cells": [
  {
   "cell_type": "code",
   "execution_count": 1,
   "metadata": {},
   "outputs": [
    {
     "data": {
      "text/plain": [
       "'The Difference Between the == and = Ope r ators\\nYou might have noticed that the == operator (equal to) has two equal signs,\\nwhile the = operator (assignment) has just one equal sign. It’s easy to confuse\\nthese two operators with each other. Just remember these points:\\n•\\t The == operator (equal to) asks whether two values are the same as each\\nother.\\n•\\t The = operator (assignment) puts the value on the right into the variable\\non the left.\\nTo help remember which is which, notice that the == operator (equal to)\\nconsists of two characters, just like the != operator (not equal to) consists of\\ntwo characters.'"
      ]
     },
     "execution_count": 1,
     "metadata": {},
     "output_type": "execute_result"
    }
   ],
   "source": [
    "\"\"\"The Difference Between the == and = Ope r ators\n",
    "You might have noticed that the == operator (equal to) has two equal signs,\n",
    "while the = operator (assignment) has just one equal sign. It’s easy to confuse\n",
    "these two operators with each other. Just remember these points:\n",
    "•\t The == operator (equal to) asks whether two values are the same as each\n",
    "other.\n",
    "•\t The = operator (assignment) puts the value on the right into the variable\n",
    "on the left.\n",
    "To help remember which is which, notice that the == operator (equal to)\n",
    "consists of two characters, just like the != operator (not equal to) consists of\n",
    "two characters.\"\"\""
   ]
  },
  {
   "cell_type": "code",
   "execution_count": 2,
   "metadata": {},
   "outputs": [
    {
     "data": {
      "text/plain": [
       "'True and True True\\nTrue and False False\\nFalse and True False\\nFalse and False False|'"
      ]
     },
     "execution_count": 2,
     "metadata": {},
     "output_type": "execute_result"
    }
   ],
   "source": [
    "\"\"\"True and True True\n",
    "True and False False\n",
    "False and True False\n",
    "False and False False|\"\"\""
   ]
  },
  {
   "cell_type": "code",
   "execution_count": 3,
   "metadata": {},
   "outputs": [
    {
     "data": {
      "text/plain": [
       "False"
      ]
     },
     "execution_count": 3,
     "metadata": {},
     "output_type": "execute_result"
    }
   ],
   "source": [
    "not True"
   ]
  },
  {
   "cell_type": "code",
   "execution_count": 4,
   "metadata": {},
   "outputs": [
    {
     "data": {
      "text/plain": [
       "True"
      ]
     },
     "execution_count": 4,
     "metadata": {},
     "output_type": "execute_result"
    }
   ],
   "source": [
    "not not True"
   ]
  },
  {
   "cell_type": "code",
   "execution_count": 5,
   "metadata": {},
   "outputs": [
    {
     "data": {
      "text/plain": [
       "False"
      ]
     },
     "execution_count": 5,
     "metadata": {},
     "output_type": "execute_result"
    }
   ],
   "source": [
    "not not not True"
   ]
  },
  {
   "cell_type": "code",
   "execution_count": 6,
   "metadata": {},
   "outputs": [
    {
     "data": {
      "text/plain": [
       "True"
      ]
     },
     "execution_count": 6,
     "metadata": {},
     "output_type": "execute_result"
    }
   ],
   "source": [
    "(4 < 5) and (5 == 5)"
   ]
  },
  {
   "cell_type": "code",
   "execution_count": null,
   "metadata": {},
   "outputs": [],
   "source": [
    "print(\"\")"
   ]
  }
 ],
 "metadata": {
  "kernelspec": {
   "display_name": "base",
   "language": "python",
   "name": "python3"
  },
  "language_info": {
   "codemirror_mode": {
    "name": "ipython",
    "version": 3
   },
   "file_extension": ".py",
   "mimetype": "text/x-python",
   "name": "python",
   "nbconvert_exporter": "python",
   "pygments_lexer": "ipython3",
   "version": "3.10.9"
  },
  "orig_nbformat": 4
 },
 "nbformat": 4,
 "nbformat_minor": 2
}
