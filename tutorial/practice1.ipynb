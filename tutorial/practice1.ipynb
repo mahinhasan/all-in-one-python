{
 "cells": [
  {
   "cell_type": "code",
   "execution_count": 1,
   "metadata": {},
   "outputs": [],
   "source": [
    "#   *  operator\n",
    "#   'hello' stirng value\n",
    "#   -88.8 float value\n",
    "#   - oprator \n",
    "#   / operator \n",
    "#   + operator\n",
    "#   5 number value"
   ]
  },
  {
   "cell_type": "code",
   "execution_count": 2,
   "metadata": {},
   "outputs": [],
   "source": [
    "# 1. int\n",
    "# 2. float\n",
    "# 3. str"
   ]
  },
  {
   "cell_type": "code",
   "execution_count": 4,
   "metadata": {},
   "outputs": [
    {
     "data": {
      "text/plain": [
       "'A combination of operands and operators is called an expression. \\nThe expression in Python produces some value or result after being interpreted by the Python interpreter.\\nAn expression in Python is a combination of operators and operands. An example of expression can be : x = x + 1 0 x = x + 10 x=x+10'"
      ]
     },
     "execution_count": 4,
     "metadata": {},
     "output_type": "execute_result"
    }
   ],
   "source": [
    "# Ques 3\n",
    "\n",
    "\"\"\"A combination of operands and operators is called an expression. \n",
    "The expression in Python produces some value or result after being interpreted by the Python interpreter.\n",
    "An expression in Python is a combination of operators and operands. An example of expression can be : x = x + 1 0 x = x + 10 x=x+10\"\"\""
   ]
  },
  {
   "cell_type": "code",
   "execution_count": 5,
   "metadata": {},
   "outputs": [
    {
     "data": {
      "text/plain": [
       "'Expressions can be assigned or used as operands, while statements can only be declared.\\n\\nStatements create side effects to be useful, while expressions are values or execute to values.\\n\\nExpressions are unique in meaning, while statements are two-sided in execution. For example, 1 has a certain value while go( ) may be executed or not.\\n\\nStatements are the whole structure, while expressions are the building blocks. For example, a line or a block of code is a statement.'"
      ]
     },
     "execution_count": 5,
     "metadata": {},
     "output_type": "execute_result"
    }
   ],
   "source": [
    "# Quest 4 \n",
    "\n",
    "\"\"\"Expressions can be assigned or used as operands, while statements can only be declared.\n",
    "\n",
    "Statements create side effects to be useful, while expressions are values or execute to values.\n",
    "\n",
    "Expressions are unique in meaning, while statements are two-sided in execution. For example, 1 has a certain value while go( ) may be executed or not.\n",
    "\n",
    "Statements are the whole structure, while expressions are the building blocks. For example, a line or a block of code is a statement.\"\"\""
   ]
  },
  {
   "cell_type": "code",
   "execution_count": 6,
   "metadata": {},
   "outputs": [],
   "source": [
    "\n",
    "#What three functions can be used to get the integer, floating-point number, or string version of a value?\n",
    "\n",
    "# float, int ,str"
   ]
  },
  {
   "cell_type": "code",
   "execution_count": 8,
   "metadata": {},
   "outputs": [
    {
     "data": {
      "text/plain": [
       "'I have eaten 99 burritos.'"
      ]
     },
     "execution_count": 8,
     "metadata": {},
     "output_type": "execute_result"
    }
   ],
   "source": [
    "#10. Why does this expression cause an error? How can you fix it? => 'I have eaten ' + 99 + ' burritos.'\n",
    "\n",
    "# because it can't convert a int to string automatically and can't sumation\n",
    "\n",
    "#Solution : just use str to convert int string \n",
    "\n",
    "'I have eaten ' + str(99) + ' burritos.'\n"
   ]
  },
  {
   "cell_type": "code",
   "execution_count": null,
   "metadata": {},
   "outputs": [],
   "source": []
  }
 ],
 "metadata": {
  "kernelspec": {
   "display_name": "base",
   "language": "python",
   "name": "python3"
  },
  "language_info": {
   "codemirror_mode": {
    "name": "ipython",
    "version": 3
   },
   "file_extension": ".py",
   "mimetype": "text/x-python",
   "name": "python",
   "nbconvert_exporter": "python",
   "pygments_lexer": "ipython3",
   "version": "3.10.9"
  },
  "orig_nbformat": 4
 },
 "nbformat": 4,
 "nbformat_minor": 2
}
