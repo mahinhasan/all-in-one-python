{
 "cells": [
  {
   "cell_type": "code",
   "execution_count": 1,
   "metadata": {},
   "outputs": [
    {
     "name": "stdout",
     "output_type": "stream",
     "text": [
      "Hello world!\n"
     ]
    }
   ],
   "source": [
    "# Here is my python journey start.\n",
    "\n",
    "print(\"Hello world!\")"
   ]
  },
  {
   "cell_type": "code",
   "execution_count": 6,
   "metadata": {},
   "outputs": [
    {
     "name": "stdout",
     "output_type": "stream",
     "text": [
      "Enter your password : \n",
      "Access denied!\n"
     ]
    }
   ],
   "source": [
    "passwordFile = open('SecretPasswordFile.txt')\n",
    "secretPassword = passwordFile.read()\n",
    "print(\"Enter your password : \")\n",
    "\n",
    "typedPassword = input()\n",
    "if typedPassword == secretPassword:\n",
    "    print(\"Access granted!\")\n",
    "    if typedPassword == '12345':\n",
    "        print(\"Thats the password \")\n",
    "else:\n",
    "    print(\"Access denied!\")"
   ]
  },
  {
   "cell_type": "code",
   "execution_count": null,
   "metadata": {},
   "outputs": [],
   "source": []
  }
 ],
 "metadata": {
  "kernelspec": {
   "display_name": "base",
   "language": "python",
   "name": "python3"
  },
  "language_info": {
   "codemirror_mode": {
    "name": "ipython",
    "version": 3
   },
   "file_extension": ".py",
   "mimetype": "text/x-python",
   "name": "python",
   "nbconvert_exporter": "python",
   "pygments_lexer": "ipython3",
   "version": "3.10.9"
  },
  "orig_nbformat": 4
 },
 "nbformat": 4,
 "nbformat_minor": 2
}
