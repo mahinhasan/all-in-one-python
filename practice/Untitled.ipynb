{
 "cells": [
  {
   "cell_type": "code",
   "execution_count": 1,
   "id": "a752d338",
   "metadata": {},
   "outputs": [
    {
     "name": "stdout",
     "output_type": "stream",
     "text": [
      "[['SmartPhone', 400, 40.0], ['Tablet', 450, 45.0], ['Laptop', 700, 70.0]]\n"
     ]
    }
   ],
   "source": [
    "carts = [['SmartPhone', 400],\n",
    "         ['Tablet', 450],\n",
    "         ['Laptop', 700]]\n",
    "\n",
    "TAX = 0.1\n",
    "carts = map(lambda item: [item[0], item[1], item[1] * TAX], carts)\n",
    "\n",
    "print(list(carts))"
   ]
  },
  {
   "cell_type": "code",
   "execution_count": null,
   "id": "46ec0593",
   "metadata": {},
   "outputs": [],
   "source": []
  }
 ],
 "metadata": {
  "kernelspec": {
   "display_name": "Python 3 (ipykernel)",
   "language": "python",
   "name": "python3"
  },
  "language_info": {
   "codemirror_mode": {
    "name": "ipython",
    "version": 3
   },
   "file_extension": ".py",
   "mimetype": "text/x-python",
   "name": "python",
   "nbconvert_exporter": "python",
   "pygments_lexer": "ipython3",
   "version": "3.10.6"
  }
 },
 "nbformat": 4,
 "nbformat_minor": 5
}
