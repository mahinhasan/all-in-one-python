{
 "cells": [
  {
   "cell_type": "markdown",
   "id": "1a18a5be",
   "metadata": {},
   "source": [
    "# Integet"
   ]
  },
  {
   "cell_type": "code",
   "execution_count": 1,
   "id": "44d32f40",
   "metadata": {},
   "outputs": [
    {
     "name": "stdout",
     "output_type": "stream",
     "text": [
      "30\n"
     ]
    }
   ],
   "source": [
    "x = 10\n",
    "y = 20\n",
    "sum = x + y\n",
    "print(sum)"
   ]
  },
  {
   "cell_type": "markdown",
   "id": "deda7185",
   "metadata": {},
   "source": [
    "## float"
   ]
  },
  {
   "cell_type": "code",
   "execution_count": 2,
   "id": "1f17e95a",
   "metadata": {},
   "outputs": [
    {
     "name": "stdout",
     "output_type": "stream",
     "text": [
      "The result is 5.33\n"
     ]
    }
   ],
   "source": [
    "x = 2.0\n",
    "y = 3.33\n",
    "\n",
    "res = x + y\n",
    "print(f'The result is {res}')"
   ]
  },
  {
   "cell_type": "markdown",
   "id": "18470e80",
   "metadata": {},
   "source": [
    "### Underscores in numbers"
   ]
  },
  {
   "cell_type": "code",
   "execution_count": 4,
   "id": "148c80db",
   "metadata": {},
   "outputs": [
    {
     "name": "stdout",
     "output_type": "stream",
     "text": [
      "10000000000\n"
     ]
    }
   ],
   "source": [
    "count = 10_000_000_000\n",
    "\n",
    "print(count)"
   ]
  },
  {
   "cell_type": "markdown",
   "id": "eb70d939",
   "metadata": {},
   "source": [
    "### Result "
   ]
  },
  {
   "cell_type": "markdown",
   "id": "74afec08",
   "metadata": {},
   "source": [
    "##### -> Python supports common numeric types including integers, floats, and complex numbers.\n",
    "#####  ->Use the underscores to group numbers for the large numbers.\n"
   ]
  },
  {
   "cell_type": "code",
   "execution_count": null,
   "id": "5bfb2ec0",
   "metadata": {},
   "outputs": [],
   "source": []
  }
 ],
 "metadata": {
  "kernelspec": {
   "display_name": "Python 3 (ipykernel)",
   "language": "python",
   "name": "python3"
  },
  "language_info": {
   "codemirror_mode": {
    "name": "ipython",
    "version": 3
   },
   "file_extension": ".py",
   "mimetype": "text/x-python",
   "name": "python",
   "nbconvert_exporter": "python",
   "pygments_lexer": "ipython3",
   "version": "3.10.6"
  }
 },
 "nbformat": 4,
 "nbformat_minor": 5
}
