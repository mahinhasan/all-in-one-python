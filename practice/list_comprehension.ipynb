{
 "cells": [
  {
   "cell_type": "markdown",
   "id": "296d43dd",
   "metadata": {},
   "source": [
    "## list Comprehension"
   ]
  },
  {
   "cell_type": "code",
   "execution_count": 1,
   "id": "39316e4e",
   "metadata": {},
   "outputs": [],
   "source": [
    "fruits = ['apple','banana','cherry','kiwi','mango']\n",
    "\n",
    "new_list = []\n",
    "\n",
    "for x in fruits:\n",
    "    if 'a' in x:\n",
    "        new_list.append(x)"
   ]
  },
  {
   "cell_type": "code",
   "execution_count": 2,
   "id": "fec64718",
   "metadata": {},
   "outputs": [
    {
     "name": "stdout",
     "output_type": "stream",
     "text": [
      "['apple', 'banana', 'mango']\n"
     ]
    }
   ],
   "source": [
    "print(new_list)"
   ]
  },
  {
   "cell_type": "markdown",
   "id": "c1fdd3b3",
   "metadata": {},
   "source": [
    "### Alternative"
   ]
  },
  {
   "cell_type": "code",
   "execution_count": 5,
   "id": "58fca5ec",
   "metadata": {},
   "outputs": [],
   "source": [
    "newList = [x for x in fruits if 'a' in x ]"
   ]
  },
  {
   "cell_type": "code",
   "execution_count": 6,
   "id": "b414bbbe",
   "metadata": {},
   "outputs": [
    {
     "data": {
      "text/plain": [
       "['apple', 'banana', 'mango']"
      ]
     },
     "execution_count": 6,
     "metadata": {},
     "output_type": "execute_result"
    }
   ],
   "source": [
    "new_list"
   ]
  },
  {
   "cell_type": "markdown",
   "id": "50067a31",
   "metadata": {},
   "source": [
    "### Dictionary "
   ]
  },
  {
   "cell_type": "code",
   "execution_count": 10,
   "id": "c05a041a",
   "metadata": {},
   "outputs": [],
   "source": [
    "squares = {i: i * i for i in range(11)}"
   ]
  },
  {
   "cell_type": "code",
   "execution_count": 11,
   "id": "e3e63569",
   "metadata": {},
   "outputs": [
    {
     "data": {
      "text/plain": [
       "{0: 0, 1: 1, 2: 4, 3: 9, 4: 16, 5: 25, 6: 36, 7: 49, 8: 64, 9: 81, 10: 100}"
      ]
     },
     "execution_count": 11,
     "metadata": {},
     "output_type": "execute_result"
    }
   ],
   "source": [
    "squares"
   ]
  },
  {
   "cell_type": "code",
   "execution_count": null,
   "id": "bb2fd6ae",
   "metadata": {},
   "outputs": [],
   "source": []
  }
 ],
 "metadata": {
  "kernelspec": {
   "display_name": "Python 3 (ipykernel)",
   "language": "python",
   "name": "python3"
  },
  "language_info": {
   "codemirror_mode": {
    "name": "ipython",
    "version": 3
   },
   "file_extension": ".py",
   "mimetype": "text/x-python",
   "name": "python",
   "nbconvert_exporter": "python",
   "pygments_lexer": "ipython3",
   "version": "3.10.6"
  }
 },
 "nbformat": 4,
 "nbformat_minor": 5
}
