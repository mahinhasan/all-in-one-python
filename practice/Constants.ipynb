{
 "cells": [
  {
   "cell_type": "code",
   "execution_count": null,
   "id": "32f233f4",
   "metadata": {},
   "outputs": [],
   "source": [
    "### Python don't have any built in constants  \n",
    "### By convention, Python uses a variable whose name contains all capital letters to define a constant."
   ]
  }
 ],
 "metadata": {
  "kernelspec": {
   "display_name": "Python 3 (ipykernel)",
   "language": "python",
   "name": "python3"
  },
  "language_info": {
   "codemirror_mode": {
    "name": "ipython",
    "version": 3
   },
   "file_extension": ".py",
   "mimetype": "text/x-python",
   "name": "python",
   "nbconvert_exporter": "python",
   "pygments_lexer": "ipython3",
   "version": "3.10.6"
  }
 },
 "nbformat": 4,
 "nbformat_minor": 5
}
