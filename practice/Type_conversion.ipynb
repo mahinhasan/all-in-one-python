{
 "cells": [
  {
   "cell_type": "code",
   "execution_count": 5,
   "id": "117dae27",
   "metadata": {},
   "outputs": [
    {
     "name": "stdout",
     "output_type": "stream",
     "text": [
      "Enter a value10\n",
      "10\n",
      "Enter tax reate : 19\n",
      "1.9\n",
      "The net price is $1.9\n"
     ]
    }
   ],
   "source": [
    "## Type conversion\n",
    "\n",
    "value = input(\"Enter a value\")\n",
    "print(value)\n",
    "\n",
    "tax = input(\"Enter tax reate : \")\n",
    "\n",
    "net_price = int(value) * int(tax) / 100\n",
    "\n",
    "print(net_price)\n",
    "\n",
    "print(f\"The net price is ${net_price}\")"
   ]
  },
  {
   "cell_type": "markdown",
   "id": "d26c235a",
   "metadata": {},
   "source": [
    "# Other Type conversion \n",
    "### float(str) – convert a string to a floating-point number.\n",
    "### bool(val) – convert a value to a boolean value, either True or False.\n",
    "### str(val) – return the string representation of a value."
   ]
  },
  {
   "cell_type": "code",
   "execution_count": null,
   "id": "f5f42494",
   "metadata": {},
   "outputs": [],
   "source": []
  }
 ],
 "metadata": {
  "kernelspec": {
   "display_name": "Python 3 (ipykernel)",
   "language": "python",
   "name": "python3"
  },
  "language_info": {
   "codemirror_mode": {
    "name": "ipython",
    "version": 3
   },
   "file_extension": ".py",
   "mimetype": "text/x-python",
   "name": "python",
   "nbconvert_exporter": "python",
   "pygments_lexer": "ipython3",
   "version": "3.10.6"
  }
 },
 "nbformat": 4,
 "nbformat_minor": 5
}
