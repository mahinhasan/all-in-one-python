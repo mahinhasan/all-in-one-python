{
 "cells": [
  {
   "cell_type": "code",
   "execution_count": 54,
   "id": "fe99bb2a-9240-4c39-8f63-e1175af9cb59",
   "metadata": {},
   "outputs": [],
   "source": [
    "# load package\n",
    "from math import sqrt\n",
    "from csv import reader"
   ]
  },
  {
   "cell_type": "code",
   "execution_count": 7,
   "id": "9a616604-1d89-4348-9908-c88306d6e953",
   "metadata": {},
   "outputs": [],
   "source": [
    "# load csv file\n",
    "def load_csv(filename):\n",
    "    dataset = list()\n",
    "    with open(filename,'r') as file:\n",
    "        csv_reader = reader(file)\n",
    "        for row in csv_reader:\n",
    "            if not row :\n",
    "                continue\n",
    "            dataset.append(row)\n",
    "    return dataset"
   ]
  },
  {
   "cell_type": "code",
   "execution_count": 8,
   "id": "b9ad06d5-cd25-4717-9e27-7704af65f1a7",
   "metadata": {},
   "outputs": [
    {
     "name": "stdout",
     "output_type": "stream",
     "text": [
      "Loaded data file Data/pima-indians-diabetes.csv with 768 rows and 9 columns\n"
     ]
    }
   ],
   "source": [
    "filename = 'Data/pima-indians-diabetes.csv'\n",
    "dataset = load_csv(filename)\n",
    "print('Loaded data file {0} with {1} rows and {2} columns'.format(filename,len(dataset),len(dataset[0])))"
   ]
  },
  {
   "cell_type": "code",
   "execution_count": 9,
   "id": "937780f3-e344-474f-a88f-d3eab393eb19",
   "metadata": {},
   "outputs": [
    {
     "name": "stdout",
     "output_type": "stream",
     "text": [
      "['6', '148', '72', '35', '0', '33.6', '0.627', '50', '1']\n"
     ]
    }
   ],
   "source": [
    "print(dataset[0])"
   ]
  },
  {
   "cell_type": "code",
   "execution_count": 10,
   "id": "24b8c30c-6ce1-47a4-9fcd-ea0b8571c7e9",
   "metadata": {},
   "outputs": [
    {
     "name": "stdout",
     "output_type": "stream",
     "text": [
      "['1', '85', '66', '29', '0', '26.6', '0.351', '31', '0']\n"
     ]
    }
   ],
   "source": [
    "print(dataset[1])"
   ]
  },
  {
   "cell_type": "code",
   "execution_count": 12,
   "id": "43093a56-52f9-4036-8213-95e62d0768b1",
   "metadata": {},
   "outputs": [],
   "source": [
    "# convert string to float\n",
    "def strToFloat(dataset,column):\n",
    "    for row in dataset:\n",
    "        row[column] = float(row[column].strip())"
   ]
  },
  {
   "cell_type": "code",
   "execution_count": 13,
   "id": "7bf68473-0fdf-493e-8570-e52345c0424b",
   "metadata": {},
   "outputs": [],
   "source": [
    "for i in range(len(dataset[0])):\n",
    "    strToFloat(dataset,i)\n",
    "    "
   ]
  },
  {
   "cell_type": "code",
   "execution_count": 14,
   "id": "64552d65-b87b-4514-9eb9-821028c364b4",
   "metadata": {},
   "outputs": [
    {
     "name": "stdout",
     "output_type": "stream",
     "text": [
      "[6.0, 148.0, 72.0, 35.0, 0.0, 33.6, 0.627, 50.0, 1.0]\n"
     ]
    }
   ],
   "source": [
    "print(dataset[0])"
   ]
  },
  {
   "cell_type": "markdown",
   "id": "48cdc918-3f56-4780-b836-8f0d8d1943fd",
   "metadata": {},
   "source": [
    "## Find MinMax for each column"
   ]
  },
  {
   "cell_type": "code",
   "execution_count": 25,
   "id": "3273851a-77b5-44ae-847a-28006ee66360",
   "metadata": {},
   "outputs": [],
   "source": [
    "def datasetMinMax(dataset):\n",
    "    minmax = list()\n",
    "    for i in range(len(dataset[0])):\n",
    "        col_values = [row[i] for row in dataset]\n",
    "        value_min = min(col_values)\n",
    "        value_max = max(col_values)\n",
    "        minmax.append([value_min,value_max])\n",
    "    return minmax"
   ]
  },
  {
   "cell_type": "code",
   "execution_count": null,
   "id": "b30dc11f-46c6-4d84-8c00-f95c2d6b9914",
   "metadata": {},
   "outputs": [],
   "source": []
  },
  {
   "cell_type": "code",
   "execution_count": 32,
   "id": "778eddf7-8d56-4788-80ea-8a989db135bb",
   "metadata": {},
   "outputs": [],
   "source": [
    "# Convert string column to float\n",
    "def str_column_to_float(dataset, column):\n",
    "    for row in dataset:\n",
    "        row[column] = float(row[column].strip())"
   ]
  },
  {
   "cell_type": "code",
   "execution_count": 33,
   "id": "60a44cb4-db7c-4ad2-be34-2de0a2053d51",
   "metadata": {},
   "outputs": [],
   "source": [
    "def datasetMinMax(dataset):\n",
    "    minmax = list()\n",
    "    for i in range(len(dataset[0])):\n",
    "        col_values = [row[i] for row in dataset]\n",
    "        value_min = min(col_values)\n",
    "        value_max = max(col_values)\n",
    "        minmax.append([value_min,value_max])\n",
    "    return minmax"
   ]
  },
  {
   "cell_type": "code",
   "execution_count": null,
   "id": "2bba7bb3-c33e-4947-a7bc-3c482ffa5b64",
   "metadata": {},
   "outputs": [],
   "source": []
  },
  {
   "cell_type": "markdown",
   "id": "b3cec6bc-8ef1-4261-ad9a-379153aa2eb1",
   "metadata": {},
   "source": [
    "# Rescale dataset columns to the range 0-1"
   ]
  },
  {
   "cell_type": "code",
   "execution_count": 34,
   "id": "d491f2e6-1986-46c4-b40a-6d5d77e6ff15",
   "metadata": {},
   "outputs": [],
   "source": [
    "def normalize_dataset(dataset,minmax):\n",
    "    for row in dataset:\n",
    "        for i in range(len(row)):\n",
    "            row[i] = (row[i] - minmax[i][0])/(minmax[i][1] - minmax[i][0])"
   ]
  },
  {
   "cell_type": "code",
   "execution_count": 36,
   "id": "fdb7cc2e-d82f-43a2-90bf-96f28d5057e4",
   "metadata": {},
   "outputs": [
    {
     "name": "stdout",
     "output_type": "stream",
     "text": [
      "Loaded data file Data/pima-indians-diabetes.csv with 768 rows and 9 columns\n",
      "[6.0, 148.0, 72.0, 35.0, 0.0, 33.6, 0.627, 50.0, 1.0]\n"
     ]
    }
   ],
   "source": [
    "#Load pima-indians-diabetes dataset\n",
    "filename = 'Data/pima-indians-diabetes.csv'\n",
    "dataset = load_csv(filename)\n",
    "print('Loaded data file {0} with {1} rows and {2} columns'.format(filename, len(dataset),\n",
    "len(dataset[0])))\n",
    "# convert string columns to float\n",
    "for i in range(len(dataset[0])):\n",
    "    str_column_to_float(dataset, i)\n",
    "print(dataset[0])"
   ]
  },
  {
   "cell_type": "code",
   "execution_count": 38,
   "id": "2e38c3d7-1135-42b9-9a56-e842840217dc",
   "metadata": {},
   "outputs": [
    {
     "name": "stdout",
     "output_type": "stream",
     "text": [
      "[0.35294117647058826, 0.7437185929648241, 0.5901639344262295, 0.35353535353535354, 0.0, 0.5007451564828614, 0.23441502988898377, 0.48333333333333334, 1.0]\n"
     ]
    }
   ],
   "source": [
    "# Calculate min and max for each column\n",
    "minmax = datasetMinMax(dataset)\n",
    "# Normalize columns\n",
    "normalize_dataset(dataset, minmax)\n",
    "print(dataset[0])"
   ]
  },
  {
   "cell_type": "code",
   "execution_count": 42,
   "id": "d3a6efb2-bf90-428e-85d1-21f94bb47ffe",
   "metadata": {},
   "outputs": [],
   "source": [
    "#calculate mean\n",
    "def column_means(dataset):\n",
    "    means = [0 for i in range(len(dataset[0]))]\n",
    "    for i in range(len(dataset[0])):\n",
    "        col_values = [row[i] for row in dataset]\n",
    "        means[i] = sum(col_values) / float(len(dataset))\n",
    "    return means"
   ]
  },
  {
   "cell_type": "code",
   "execution_count": 52,
   "id": "ec6d082d-1d0e-4ba1-b2a0-b1c99f63ff62",
   "metadata": {},
   "outputs": [],
   "source": [
    "# calculate stdv\n",
    "\n",
    "def column_stdevs(dataset, means):\n",
    "    stdevs = [0 for i in range(len(dataset[0]))]\n",
    "    for i in range(len(dataset[0])):\n",
    "        variance = [pow(row[i]-means[i], 2) for row in dataset]\n",
    "        stdevs[i] = sum(variance)\n",
    "        stdevs = [sqrt(x/(float(len(dataset)-1))) for x in stdevs]\n",
    "    return stdevs"
   ]
  },
  {
   "cell_type": "code",
   "execution_count": 45,
   "id": "b9596653-abd1-4812-afec-547dfb7a5fa5",
   "metadata": {},
   "outputs": [],
   "source": [
    "# standardize dataset\n",
    "def standardize_dataset(dataset, means, stdevs):\n",
    "    for row in dataset:\n",
    "        for i in range(len(row)):\n",
    "            row[i] = (row[i] - means[i]) / stdevs[i]"
   ]
  },
  {
   "cell_type": "code",
   "execution_count": 56,
   "id": "f6dbce28-624c-41f3-870f-6e082a9b1ec2",
   "metadata": {},
   "outputs": [
    {
     "name": "stdout",
     "output_type": "stream",
     "text": [
      "[[50, 30], [20, 90], [30, 50]]\n",
      "[33.333333333333336, 56.666666666666664]\n",
      "[2.7636255459558434, 30.550504633038933]\n",
      "[[6.030725360407766, -0.8728715609439694], [-4.8245802883262145, 1.091089451179962], [-1.2061450720815543, -0.2182178902359923]]\n"
     ]
    }
   ],
   "source": [
    "dataset = [[50, 30], [20, 90], [30, 50]]\n",
    "print(dataset)\n",
    "\n",
    "means = column_means(dataset)\n",
    "stdevs = column_stdevs(dataset, means)\n",
    "print(means)\n",
    "print(stdevs)\n",
    "# standardize dataset\n",
    "standardize_dataset(dataset, means, stdevs)\n",
    "print(dataset)"
   ]
  },
  {
   "cell_type": "code",
   "execution_count": null,
   "id": "87b611ae-b542-4e91-8292-51e5978359c0",
   "metadata": {},
   "outputs": [],
   "source": []
  }
 ],
 "metadata": {
  "kernelspec": {
   "display_name": "Python 3 (ipykernel)",
   "language": "python",
   "name": "python3"
  },
  "language_info": {
   "codemirror_mode": {
    "name": "ipython",
    "version": 3
   },
   "file_extension": ".py",
   "mimetype": "text/x-python",
   "name": "python",
   "nbconvert_exporter": "python",
   "pygments_lexer": "ipython3",
   "version": "3.11.4"
  }
 },
 "nbformat": 4,
 "nbformat_minor": 5
}
