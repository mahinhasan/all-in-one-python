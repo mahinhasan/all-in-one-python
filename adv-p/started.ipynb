{
 "cells": [
  {
   "cell_type": "code",
   "execution_count": 2,
   "metadata": {},
   "outputs": [],
   "source": [
    "import numpy as np"
   ]
  },
  {
   "cell_type": "code",
   "execution_count": 99,
   "metadata": {},
   "outputs": [],
   "source": [
    "import matplotlib.pyplot as plt\n",
    "import pandas as pd\n",
    "from scipy.stats import binom\n",
    "from scipy import stats"
   ]
  },
  {
   "cell_type": "code",
   "execution_count": 5,
   "metadata": {},
   "outputs": [
    {
     "data": {
      "text/plain": [
       "(-1.5, 1.5)"
      ]
     },
     "execution_count": 5,
     "metadata": {},
     "output_type": "execute_result"
    },
    {
     "data": {
      "image/png": "[encoded data removed]",
      "text/plain": [
       "<Figure size 640x480 with 1 Axes>"
      ]
     },
     "metadata": {},
     "output_type": "display_data"
    }
   ],
   "source": [
    "x = np.linspace(0,4*np.pi,100)\n",
    "sinx = np.sin(x)\n",
    "plt.plot(x,sinx)\n",
    "plt.xlabel(\"Time\")\n",
    "plt.ylabel(\"Amplitude\")\n",
    "plt.xlim([0,4*np.pi])\n",
    "plt.ylim([-1.5,1.5])"
   ]
  },
  {
   "cell_type": "code",
   "execution_count": 4,
   "metadata": {},
   "outputs": [],
   "source": [
    "a = np.arange(1,10)"
   ]
  },
  {
   "cell_type": "code",
   "execution_count": 5,
   "metadata": {},
   "outputs": [
    {
     "data": {
      "text/plain": [
       "array([1, 2, 3, 4, 5, 6, 7, 8, 9])"
      ]
     },
     "execution_count": 5,
     "metadata": {},
     "output_type": "execute_result"
    }
   ],
   "source": [
    "a"
   ]
  },
  {
   "cell_type": "code",
   "execution_count": 8,
   "metadata": {},
   "outputs": [],
   "source": [
    "b = np.arange(10,2,-2)"
   ]
  },
  {
   "cell_type": "code",
   "execution_count": 9,
   "metadata": {},
   "outputs": [
    {
     "data": {
      "text/plain": [
       "array([10,  8,  6,  4])"
      ]
     },
     "execution_count": 9,
     "metadata": {},
     "output_type": "execute_result"
    }
   ],
   "source": [
    "b"
   ]
  },
  {
   "cell_type": "code",
   "execution_count": 11,
   "metadata": {},
   "outputs": [],
   "source": [
    "from scipy.linalg import lu"
   ]
  },
  {
   "cell_type": "code",
   "execution_count": 13,
   "metadata": {},
   "outputs": [],
   "source": [
    "x = np.mat('1,2;3,2;2,3')"
   ]
  },
  {
   "cell_type": "code",
   "execution_count": 14,
   "metadata": {},
   "outputs": [
    {
     "data": {
      "text/plain": [
       "array([1, 2, 3, 4, 5, 6, 7, 8, 9])"
      ]
     },
     "execution_count": 14,
     "metadata": {},
     "output_type": "execute_result"
    }
   ],
   "source": [
    "a"
   ]
  },
  {
   "cell_type": "code",
   "execution_count": 15,
   "metadata": {},
   "outputs": [],
   "source": [
    "aT = np.transpose(a)"
   ]
  },
  {
   "cell_type": "code",
   "execution_count": 16,
   "metadata": {},
   "outputs": [
    {
     "data": {
      "text/plain": [
       "array([1, 2, 3, 4, 5, 6, 7, 8, 9])"
      ]
     },
     "execution_count": 16,
     "metadata": {},
     "output_type": "execute_result"
    }
   ],
   "source": [
    "aT"
   ]
  },
  {
   "cell_type": "code",
   "execution_count": 17,
   "metadata": {},
   "outputs": [],
   "source": [
    "student = [\"Tom\",90,32,33,53]"
   ]
  },
  {
   "cell_type": "code",
   "execution_count": 18,
   "metadata": {},
   "outputs": [],
   "source": [
    "name,*marks,age = student"
   ]
  },
  {
   "cell_type": "code",
   "execution_count": 19,
   "metadata": {},
   "outputs": [
    {
     "data": {
      "text/plain": [
       "'Tom'"
      ]
     },
     "execution_count": 19,
     "metadata": {},
     "output_type": "execute_result"
    }
   ],
   "source": [
    "name"
   ]
  },
  {
   "cell_type": "code",
   "execution_count": 20,
   "metadata": {},
   "outputs": [
    {
     "data": {
      "text/plain": [
       "53"
      ]
     },
     "execution_count": 20,
     "metadata": {},
     "output_type": "execute_result"
    }
   ],
   "source": [
    "age"
   ]
  },
  {
   "cell_type": "code",
   "execution_count": 21,
   "metadata": {},
   "outputs": [
    {
     "data": {
      "text/plain": [
       "[90, 32, 33]"
      ]
     },
     "execution_count": 21,
     "metadata": {},
     "output_type": "execute_result"
    }
   ],
   "source": [
    "marks"
   ]
  },
  {
   "cell_type": "code",
   "execution_count": 23,
   "metadata": {},
   "outputs": [],
   "source": [
    "class Jungle:\n",
    "    def __init__(self,name=\"Unknow\"):\n",
    "        self.visitorName = name\n",
    "    def welcomeMessage(self):\n",
    "        print(\"Hello %s, Welcome to the Jungle\" %self.visitorName)\n",
    "\n"
   ]
  },
  {
   "cell_type": "code",
   "execution_count": 24,
   "metadata": {},
   "outputs": [],
   "source": [
    "j = Jungle(\"Meher\")"
   ]
  },
  {
   "cell_type": "code",
   "execution_count": 26,
   "metadata": {},
   "outputs": [
    {
     "name": "stdout",
     "output_type": "stream",
     "text": [
      "Hello Meher, Welcome to the Jungle\n"
     ]
    }
   ],
   "source": [
    "j.welcomeMessage()"
   ]
  },
  {
   "cell_type": "code",
   "execution_count": 27,
   "metadata": {},
   "outputs": [],
   "source": [
    "class RateJungle(Jungle):\n",
    "    def __init__(self,name,feedback):\n",
    "        self.feedback = feedback\n",
    "        super().__init__(name)\n",
    "\n",
    "    def printRating(self):\n",
    "        print(\"Thanks %s for feedback\" %self.visitorName)"
   ]
  },
  {
   "cell_type": "code",
   "execution_count": 28,
   "metadata": {},
   "outputs": [
    {
     "name": "stdout",
     "output_type": "stream",
     "text": [
      "Thanks Meher for feedback\n",
      "Hello Meher, Welcome to the Jungle\n"
     ]
    }
   ],
   "source": [
    "def main():\n",
    "    r = RateJungle(\"Meher\",3)\n",
    "    r.printRating()\n",
    "    r.welcomeMessage()\n",
    "\n",
    "if __name__=='__main__':\n",
    "    main()"
   ]
  },
  {
   "cell_type": "code",
   "execution_count": 31,
   "metadata": {},
   "outputs": [],
   "source": [
    "from abc import ABCMeta,abstractmethod\n",
    "\n",
    "class Jungle(metaclass=ABCMeta):\n",
    "    def __init__(self,name=\"unknow\"):\n",
    "        self.visitorName = name\n",
    "\n",
    "    def welcomeMessage(self):\n",
    "        print(\"Hello %s, Welcome to the jungle\" %self.visitorName)\n",
    "    @abstractmethod\n",
    "    def scarySound(self):\n",
    "        pass"
   ]
  },
  {
   "cell_type": "code",
   "execution_count": 33,
   "metadata": {},
   "outputs": [
    {
     "name": "stdout",
     "output_type": "stream",
     "text": [
      "Animals are running away due to scary sound.\n",
      "Birds are flying away due to scary sound\n"
     ]
    }
   ],
   "source": [
    "class Animal(Jungle):\n",
    "    def scarySound(self):\n",
    "        print(\"Animals are running away due to scary sound.\")\n",
    "\n",
    "class Bird(Jungle):\n",
    "    def scarySound(self):\n",
    "        print(\"Birds are flying away due to scary sound\")\n",
    "\n",
    "\n",
    "def main():\n",
    "    a = Animal()\n",
    "    b = Bird()\n",
    "    a.scarySound()\n",
    "    b.scarySound()\n",
    "\n",
    "if __name__=='__main__':\n",
    "    main()"
   ]
  },
  {
   "cell_type": "code",
   "execution_count": 36,
   "metadata": {},
   "outputs": [
    {
     "name": "stdout",
     "output_type": "stream",
     "text": [
      "It is an object of class jungle\n"
     ]
    }
   ],
   "source": [
    "class Jungle:\n",
    "    def __str__(self):\n",
    "        return (\"It is an object of class jungle\")\n",
    "\n",
    "def main():\n",
    "    j = Jungle()\n",
    "    print(j)\n",
    "\n",
    "if __name__=='__main__':\n",
    "    main()"
   ]
  },
  {
   "cell_type": "code",
   "execution_count": null,
   "metadata": {},
   "outputs": [],
   "source": []
  },
  {
   "cell_type": "code",
   "execution_count": 5,
   "metadata": {},
   "outputs": [],
   "source": [
    "narray = np.array([[0,1,2,3],[4,5,6,7],[8,9,10,11]])"
   ]
  },
  {
   "cell_type": "code",
   "execution_count": 6,
   "metadata": {},
   "outputs": [
    {
     "data": {
      "text/plain": [
       "2"
      ]
     },
     "execution_count": 6,
     "metadata": {},
     "output_type": "execute_result"
    }
   ],
   "source": [
    "narray.ndim"
   ]
  },
  {
   "cell_type": "code",
   "execution_count": 7,
   "metadata": {},
   "outputs": [
    {
     "name": "stdout",
     "output_type": "stream",
     "text": [
      "3D Array:\n",
      "[[[0.09277123 0.35037628 0.09297126]\n",
      "  [0.2499772  0.2820638  0.37168611]\n",
      "  [0.95899308 0.08679737 0.13556761]]\n",
      "\n",
      " [[0.55742946 0.94780113 0.32702055]\n",
      "  [0.95653564 0.98627509 0.28025024]\n",
      "  [0.81864773 0.30966099 0.88388193]]\n",
      "\n",
      " [[0.87027793 0.42222568 0.90430071]\n",
      "  [0.49007692 0.72064458 0.42417068]\n",
      "  [0.16496873 0.00450126 0.20450397]]]\n"
     ]
    }
   ],
   "source": [
    "array_3d = np.random.rand(3, 3, 3)\n",
    "\n",
    "# Print the 3D array\n",
    "print(\"3D Array:\")\n",
    "print(array_3d)"
   ]
  },
  {
   "cell_type": "code",
   "execution_count": 9,
   "metadata": {},
   "outputs": [
    {
     "name": "stdout",
     "output_type": "stream",
     "text": [
      "3D Array with specific values:\n",
      "[[[ 1  2  3]\n",
      "  [ 4  5  6]\n",
      "  [ 7  8  9]]\n",
      "\n",
      " [[10 11 12]\n",
      "  [13 14 15]\n",
      "  [16 17 18]]\n",
      "\n",
      " [[19 20 21]\n",
      "  [22 23 24]\n",
      "  [25 26 27]]]\n"
     ]
    }
   ],
   "source": [
    "array_3d_specific = np.array([[[1, 2, 3], [4, 5, 6], [7, 8, 9]], \n",
    "                              [[10, 11, 12], [13, 14, 15], [16, 17, 18]], \n",
    "                              [[19, 20, 21], [22, 23, 24], [25, 26, 27]]])\n",
    "\n",
    "# Print the 3D array with specific values\n",
    "print(\"3D Array with specific values:\")\n",
    "print(array_3d_specific)\n"
   ]
  },
  {
   "cell_type": "code",
   "execution_count": 11,
   "metadata": {},
   "outputs": [
    {
     "data": {
      "text/plain": [
       "array([4, 4, 4, 4])"
      ]
     },
     "execution_count": 11,
     "metadata": {},
     "output_type": "execute_result"
    }
   ],
   "source": [
    "a = np.array([1,2,3,4])\n",
    "b = np.array([5,6,7,8])\n",
    "\n",
    "c = b - a\n",
    "c "
   ]
  },
  {
   "cell_type": "code",
   "execution_count": 12,
   "metadata": {},
   "outputs": [
    {
     "data": {
      "text/plain": [
       "array([16, 16, 16, 16])"
      ]
     },
     "execution_count": 12,
     "metadata": {},
     "output_type": "execute_result"
    }
   ],
   "source": [
    "c ** 2"
   ]
  },
  {
   "cell_type": "code",
   "execution_count": 13,
   "metadata": {},
   "outputs": [
    {
     "data": {
      "text/plain": [
       "array([-0.65364362, -0.65364362, -0.65364362, -0.65364362])"
      ]
     },
     "execution_count": 13,
     "metadata": {},
     "output_type": "execute_result"
    }
   ],
   "source": [
    "np.cos(c)"
   ]
  },
  {
   "cell_type": "code",
   "execution_count": 14,
   "metadata": {},
   "outputs": [
    {
     "data": {
      "text/plain": [
       "array([ True,  True,  True,  True])"
      ]
     },
     "execution_count": 14,
     "metadata": {},
     "output_type": "execute_result"
    }
   ],
   "source": [
    "b > 2"
   ]
  },
  {
   "cell_type": "code",
   "execution_count": 15,
   "metadata": {},
   "outputs": [
    {
     "data": {
      "text/plain": [
       "array([ 5, 12, 21, 32])"
      ]
     },
     "execution_count": 15,
     "metadata": {},
     "output_type": "execute_result"
    }
   ],
   "source": [
    "a * b"
   ]
  },
  {
   "cell_type": "code",
   "execution_count": 16,
   "metadata": {},
   "outputs": [],
   "source": [
    "a = np.array([[1,2],[3,4]])"
   ]
  },
  {
   "cell_type": "code",
   "execution_count": 17,
   "metadata": {},
   "outputs": [],
   "source": [
    "b = np.array([[4,5],[6,7]])\n"
   ]
  },
  {
   "cell_type": "code",
   "execution_count": 18,
   "metadata": {},
   "outputs": [
    {
     "data": {
      "text/plain": [
       "array([[ 4, 10],\n",
       "       [18, 28]])"
      ]
     },
     "execution_count": 18,
     "metadata": {},
     "output_type": "execute_result"
    }
   ],
   "source": [
    "a * b"
   ]
  },
  {
   "cell_type": "code",
   "execution_count": 19,
   "metadata": {},
   "outputs": [
    {
     "data": {
      "text/plain": [
       "array([[1, 2],\n",
       "       [3, 4]])"
      ]
     },
     "execution_count": 19,
     "metadata": {},
     "output_type": "execute_result"
    }
   ],
   "source": [
    "a"
   ]
  },
  {
   "cell_type": "code",
   "execution_count": 20,
   "metadata": {},
   "outputs": [
    {
     "data": {
      "text/plain": [
       "2"
      ]
     },
     "execution_count": 20,
     "metadata": {},
     "output_type": "execute_result"
    }
   ],
   "source": [
    "a.ndim"
   ]
  },
  {
   "cell_type": "code",
   "execution_count": 21,
   "metadata": {},
   "outputs": [
    {
     "data": {
      "text/plain": [
       "(2, 2)"
      ]
     },
     "execution_count": 21,
     "metadata": {},
     "output_type": "execute_result"
    }
   ],
   "source": [
    "a.shape"
   ]
  },
  {
   "cell_type": "code",
   "execution_count": 22,
   "metadata": {},
   "outputs": [
    {
     "data": {
      "text/plain": [
       "array([[16, 19],\n",
       "       [36, 43]])"
      ]
     },
     "execution_count": 22,
     "metadata": {},
     "output_type": "execute_result"
    }
   ],
   "source": [
    "np.dot(a,b)"
   ]
  },
  {
   "cell_type": "code",
   "execution_count": 23,
   "metadata": {},
   "outputs": [],
   "source": [
    "n_array = np.array([[0, 1, 2, 3],\n",
    " [4, 5, 6, 7],\n",
    " [8, 9, 10, 11]])"
   ]
  },
  {
   "cell_type": "code",
   "execution_count": 24,
   "metadata": {},
   "outputs": [
    {
     "data": {
      "text/plain": [
       "array([[ 0,  1,  2,  3],\n",
       "       [ 4,  5,  6,  7],\n",
       "       [ 8,  9, 10, 11]])"
      ]
     },
     "execution_count": 24,
     "metadata": {},
     "output_type": "execute_result"
    }
   ],
   "source": [
    "n_array"
   ]
  },
  {
   "cell_type": "code",
   "execution_count": 25,
   "metadata": {},
   "outputs": [
    {
     "data": {
      "text/plain": [
       "array([0, 1, 2])"
      ]
     },
     "execution_count": 25,
     "metadata": {},
     "output_type": "execute_result"
    }
   ],
   "source": [
    "n_array[0,0:3]"
   ]
  },
  {
   "cell_type": "code",
   "execution_count": 27,
   "metadata": {},
   "outputs": [
    {
     "data": {
      "text/plain": [
       "array([4, 5, 6])"
      ]
     },
     "execution_count": 27,
     "metadata": {},
     "output_type": "execute_result"
    }
   ],
   "source": [
    "n_array[1,0:3]"
   ]
  },
  {
   "cell_type": "code",
   "execution_count": 28,
   "metadata": {},
   "outputs": [
    {
     "data": {
      "text/plain": [
       "array([1, 5, 9])"
      ]
     },
     "execution_count": 28,
     "metadata": {},
     "output_type": "execute_result"
    }
   ],
   "source": [
    "n_array[:,1]"
   ]
  },
  {
   "cell_type": "code",
   "execution_count": 30,
   "metadata": {},
   "outputs": [
    {
     "data": {
      "text/plain": [
       "array([ 0,  1,  2,  3,  4,  5,  6,  7,  8,  9, 10, 11])"
      ]
     },
     "execution_count": 30,
     "metadata": {},
     "output_type": "execute_result"
    }
   ],
   "source": [
    "n_array.ravel()"
   ]
  },
  {
   "cell_type": "code",
   "execution_count": 31,
   "metadata": {},
   "outputs": [],
   "source": [
    "n_array.shape = (6,2)"
   ]
  },
  {
   "cell_type": "code",
   "execution_count": 32,
   "metadata": {},
   "outputs": [
    {
     "data": {
      "text/plain": [
       "array([[ 0,  1],\n",
       "       [ 2,  3],\n",
       "       [ 4,  5],\n",
       "       [ 6,  7],\n",
       "       [ 8,  9],\n",
       "       [10, 11]])"
      ]
     },
     "execution_count": 32,
     "metadata": {},
     "output_type": "execute_result"
    }
   ],
   "source": [
    "n_array"
   ]
  },
  {
   "cell_type": "code",
   "execution_count": 34,
   "metadata": {},
   "outputs": [
    {
     "data": {
      "text/plain": [
       "0    1.627380\n",
       "1   -0.622008\n",
       "2    0.025511\n",
       "3   -1.774378\n",
       "4   -1.205796\n",
       "dtype: float64"
      ]
     },
     "execution_count": 34,
     "metadata": {},
     "output_type": "execute_result"
    }
   ],
   "source": [
    "pd.Series(np.random.randn(5))"
   ]
  },
  {
   "cell_type": "code",
   "execution_count": 35,
   "metadata": {},
   "outputs": [
    {
     "data": {
      "text/plain": [
       "a   -1.292258\n",
       "b   -1.607234\n",
       "c   -0.200623\n",
       "d    0.150953\n",
       "e    0.034008\n",
       "dtype: float64"
      ]
     },
     "execution_count": 35,
     "metadata": {},
     "output_type": "execute_result"
    }
   ],
   "source": [
    "pd.Series(np.random.randn(5),index=['a','b','c','d','e'])"
   ]
  },
  {
   "cell_type": "code",
   "execution_count": 36,
   "metadata": {},
   "outputs": [],
   "source": [
    "d = {'A':10,'B':20,'c':30}"
   ]
  },
  {
   "cell_type": "code",
   "execution_count": 37,
   "metadata": {},
   "outputs": [
    {
     "data": {
      "text/plain": [
       "A    10\n",
       "B    20\n",
       "c    30\n",
       "dtype: int64"
      ]
     },
     "execution_count": 37,
     "metadata": {},
     "output_type": "execute_result"
    }
   ],
   "source": [
    "pd.Series(d)"
   ]
  },
  {
   "cell_type": "code",
   "execution_count": 38,
   "metadata": {},
   "outputs": [],
   "source": [
    "d = {'c1' : pd.Series(['A','B','C']),\n",
    "     'c2':pd.Series([1,2.,3.,4.])\n",
    "    }"
   ]
  },
  {
   "cell_type": "code",
   "execution_count": 39,
   "metadata": {},
   "outputs": [
    {
     "data": {
      "text/plain": [
       "{'c1': 0    A\n",
       " 1    B\n",
       " 2    C\n",
       " dtype: object,\n",
       " 'c2': 0    1.0\n",
       " 1    2.0\n",
       " 2    3.0\n",
       " 3    4.0\n",
       " dtype: float64}"
      ]
     },
     "execution_count": 39,
     "metadata": {},
     "output_type": "execute_result"
    }
   ],
   "source": [
    "d"
   ]
  },
  {
   "cell_type": "code",
   "execution_count": 40,
   "metadata": {},
   "outputs": [],
   "source": [
    "df = pd.DataFrame(d)"
   ]
  },
  {
   "cell_type": "code",
   "execution_count": 41,
   "metadata": {},
   "outputs": [
    {
     "data": {
      "text/html": [
       "<div>\n",
       "<style scoped>\n",
       "    .dataframe tbody tr th:only-of-type {\n",
       "        vertical-align: middle;\n",
       "    }\n",
       "\n",
       "    .dataframe tbody tr th {\n",
       "        vertical-align: top;\n",
       "    }\n",
       "\n",
       "    .dataframe thead th {\n",
       "        text-align: right;\n",
       "    }\n",
       "</style>\n",
       "<table border=\"1\" class=\"dataframe\">\n",
       "  <thead>\n",
       "    <tr style=\"text-align: right;\">\n",
       "      <th></th>\n",
       "      <th>c1</th>\n",
       "      <th>c2</th>\n",
       "    </tr>\n",
       "  </thead>\n",
       "  <tbody>\n",
       "    <tr>\n",
       "      <th>0</th>\n",
       "      <td>A</td>\n",
       "      <td>1.0</td>\n",
       "    </tr>\n",
       "    <tr>\n",
       "      <th>1</th>\n",
       "      <td>B</td>\n",
       "      <td>2.0</td>\n",
       "    </tr>\n",
       "    <tr>\n",
       "      <th>2</th>\n",
       "      <td>C</td>\n",
       "      <td>3.0</td>\n",
       "    </tr>\n",
       "    <tr>\n",
       "      <th>3</th>\n",
       "      <td>NaN</td>\n",
       "      <td>4.0</td>\n",
       "    </tr>\n",
       "  </tbody>\n",
       "</table>\n",
       "</div>"
      ],
      "text/plain": [
       "    c1   c2\n",
       "0    A  1.0\n",
       "1    B  2.0\n",
       "2    C  3.0\n",
       "3  NaN  4.0"
      ]
     },
     "execution_count": 41,
     "metadata": {},
     "output_type": "execute_result"
    }
   ],
   "source": [
    "df"
   ]
  },
  {
   "cell_type": "code",
   "execution_count": 44,
   "metadata": {},
   "outputs": [],
   "source": [
    "d = {'I1':pd.DataFrame(np.random.randn(4,3)),\n",
    "     'I2':pd.DataFrame(np.random.randn(4,2))}"
   ]
  },
  {
   "cell_type": "code",
   "execution_count": null,
   "metadata": {},
   "outputs": [],
   "source": []
  },
  {
   "cell_type": "code",
   "execution_count": 71,
   "metadata": {},
   "outputs": [],
   "source": [
    "data = pd.read_csv('Data/Student_Weight_Status_Category_Reporting_Results__2010-2019_20240529.csv')"
   ]
  },
  {
   "cell_type": "code",
   "execution_count": 72,
   "metadata": {},
   "outputs": [
    {
     "data": {
      "text/html": [
       "<div>\n",
       "<style scoped>\n",
       "    .dataframe tbody tr th:only-of-type {\n",
       "        vertical-align: middle;\n",
       "    }\n",
       "\n",
       "    .dataframe tbody tr th {\n",
       "        vertical-align: top;\n",
       "    }\n",
       "\n",
       "    .dataframe thead th {\n",
       "        text-align: right;\n",
       "    }\n",
       "</style>\n",
       "<table border=\"1\" class=\"dataframe\">\n",
       "  <thead>\n",
       "    <tr style=\"text-align: right;\">\n",
       "      <th></th>\n",
       "      <th>Location Code</th>\n",
       "      <th>County</th>\n",
       "      <th>Area Name</th>\n",
       "      <th>Region</th>\n",
       "      <th>Year Reported</th>\n",
       "      <th>Number Overweight</th>\n",
       "      <th>Percent Overweight</th>\n",
       "      <th>Number Obese</th>\n",
       "      <th>Percent Obese</th>\n",
       "      <th>Number Overweight or Obese</th>\n",
       "      <th>Percent Overweight or Obese</th>\n",
       "      <th>Grade Level</th>\n",
       "      <th>Number Healthy Weight</th>\n",
       "      <th>Percent Healthy Weight</th>\n",
       "      <th>Sex</th>\n",
       "    </tr>\n",
       "  </thead>\n",
       "  <tbody>\n",
       "    <tr>\n",
       "      <th>0</th>\n",
       "      <td>0</td>\n",
       "      <td>STATEWIDE (EXCLUDING NYC)</td>\n",
       "      <td>STATEWIDE (EXCLUDING NYC)</td>\n",
       "      <td>STATEWIDE (EXCLUDING NYC)</td>\n",
       "      <td>2010-2012</td>\n",
       "      <td>77813.0</td>\n",
       "      <td>16.2</td>\n",
       "      <td>84578.0</td>\n",
       "      <td>17.6</td>\n",
       "      <td>162391.0</td>\n",
       "      <td>33.7</td>\n",
       "      <td>DISTRICT TOTAL</td>\n",
       "      <td>308259.0</td>\n",
       "      <td>0.641</td>\n",
       "      <td>ALL</td>\n",
       "    </tr>\n",
       "    <tr>\n",
       "      <th>1</th>\n",
       "      <td>0</td>\n",
       "      <td>STATEWIDE (EXCLUDING NYC)</td>\n",
       "      <td>STATEWIDE (EXCLUDING NYC)</td>\n",
       "      <td>STATEWIDE (EXCLUDING NYC)</td>\n",
       "      <td>2010-2012</td>\n",
       "      <td>38536.0</td>\n",
       "      <td>16.3</td>\n",
       "      <td>38261.0</td>\n",
       "      <td>16.2</td>\n",
       "      <td>76797.0</td>\n",
       "      <td>32.6</td>\n",
       "      <td>DISTRICT TOTAL</td>\n",
       "      <td>153898.0</td>\n",
       "      <td>0.653</td>\n",
       "      <td>FEMALE</td>\n",
       "    </tr>\n",
       "    <tr>\n",
       "      <th>2</th>\n",
       "      <td>0</td>\n",
       "      <td>STATEWIDE (EXCLUDING NYC)</td>\n",
       "      <td>STATEWIDE (EXCLUDING NYC)</td>\n",
       "      <td>STATEWIDE (EXCLUDING NYC)</td>\n",
       "      <td>2010-2012</td>\n",
       "      <td>39277.0</td>\n",
       "      <td>16.0</td>\n",
       "      <td>46317.0</td>\n",
       "      <td>18.9</td>\n",
       "      <td>85594.0</td>\n",
       "      <td>34.9</td>\n",
       "      <td>DISTRICT TOTAL</td>\n",
       "      <td>154361.0</td>\n",
       "      <td>0.629</td>\n",
       "      <td>MALE</td>\n",
       "    </tr>\n",
       "    <tr>\n",
       "      <th>3</th>\n",
       "      <td>0</td>\n",
       "      <td>STATEWIDE (EXCLUDING NYC)</td>\n",
       "      <td>STATEWIDE (EXCLUDING NYC)</td>\n",
       "      <td>STATEWIDE (EXCLUDING NYC)</td>\n",
       "      <td>2010-2012</td>\n",
       "      <td>44970.0</td>\n",
       "      <td>15.8</td>\n",
       "      <td>48843.0</td>\n",
       "      <td>17.2</td>\n",
       "      <td>93813.0</td>\n",
       "      <td>33.0</td>\n",
       "      <td>ELEMENTARY</td>\n",
       "      <td>184195.0</td>\n",
       "      <td>0.648</td>\n",
       "      <td>ALL</td>\n",
       "    </tr>\n",
       "    <tr>\n",
       "      <th>4</th>\n",
       "      <td>0</td>\n",
       "      <td>STATEWIDE (EXCLUDING NYC)</td>\n",
       "      <td>STATEWIDE (EXCLUDING NYC)</td>\n",
       "      <td>STATEWIDE (EXCLUDING NYC)</td>\n",
       "      <td>2010-2012</td>\n",
       "      <td>22092.0</td>\n",
       "      <td>15.9</td>\n",
       "      <td>22464.0</td>\n",
       "      <td>16.2</td>\n",
       "      <td>44556.0</td>\n",
       "      <td>32.2</td>\n",
       "      <td>ELEMENTARY</td>\n",
       "      <td>90927.0</td>\n",
       "      <td>0.656</td>\n",
       "      <td>FEMALE</td>\n",
       "    </tr>\n",
       "  </tbody>\n",
       "</table>\n",
       "</div>"
      ],
      "text/plain": [
       "   Location Code                     County                  Area Name  \\\n",
       "0              0  STATEWIDE (EXCLUDING NYC)  STATEWIDE (EXCLUDING NYC)   \n",
       "1              0  STATEWIDE (EXCLUDING NYC)  STATEWIDE (EXCLUDING NYC)   \n",
       "2              0  STATEWIDE (EXCLUDING NYC)  STATEWIDE (EXCLUDING NYC)   \n",
       "3              0  STATEWIDE (EXCLUDING NYC)  STATEWIDE (EXCLUDING NYC)   \n",
       "4              0  STATEWIDE (EXCLUDING NYC)  STATEWIDE (EXCLUDING NYC)   \n",
       "\n",
       "                      Region Year Reported   Number Overweight  \\\n",
       "0  STATEWIDE (EXCLUDING NYC)      2010-2012            77813.0   \n",
       "1  STATEWIDE (EXCLUDING NYC)      2010-2012            38536.0   \n",
       "2  STATEWIDE (EXCLUDING NYC)      2010-2012            39277.0   \n",
       "3  STATEWIDE (EXCLUDING NYC)      2010-2012            44970.0   \n",
       "4  STATEWIDE (EXCLUDING NYC)      2010-2012            22092.0   \n",
       "\n",
       "   Percent Overweight  Number Obese  Percent Obese  \\\n",
       "0                16.2       84578.0           17.6   \n",
       "1                16.3       38261.0           16.2   \n",
       "2                16.0       46317.0           18.9   \n",
       "3                15.8       48843.0           17.2   \n",
       "4                15.9       22464.0           16.2   \n",
       "\n",
       "   Number Overweight or Obese  Percent Overweight or Obese     Grade Level  \\\n",
       "0                    162391.0                         33.7  DISTRICT TOTAL   \n",
       "1                     76797.0                         32.6  DISTRICT TOTAL   \n",
       "2                     85594.0                         34.9  DISTRICT TOTAL   \n",
       "3                     93813.0                         33.0      ELEMENTARY   \n",
       "4                     44556.0                         32.2      ELEMENTARY   \n",
       "\n",
       "   Number Healthy Weight  Percent Healthy Weight     Sex  \n",
       "0               308259.0                   0.641     ALL  \n",
       "1               153898.0                   0.653  FEMALE  \n",
       "2               154361.0                   0.629    MALE  \n",
       "3               184195.0                   0.648     ALL  \n",
       "4                90927.0                   0.656  FEMALE  "
      ]
     },
     "execution_count": 72,
     "metadata": {},
     "output_type": "execute_result"
    }
   ],
   "source": [
    "data.head()"
   ]
  },
  {
   "cell_type": "code",
   "execution_count": 73,
   "metadata": {},
   "outputs": [
    {
     "data": {
      "text/plain": [
       "0    STATEWIDE (EXCLUDING NYC)\n",
       "1    STATEWIDE (EXCLUDING NYC)\n",
       "2    STATEWIDE (EXCLUDING NYC)\n",
       "3    STATEWIDE (EXCLUDING NYC)\n",
       "4    STATEWIDE (EXCLUDING NYC)\n",
       "Name: Area Name, dtype: object"
      ]
     },
     "execution_count": 73,
     "metadata": {},
     "output_type": "execute_result"
    }
   ],
   "source": [
    "data[0:5]['Area Name']"
   ]
  },
  {
   "cell_type": "code",
   "execution_count": 78,
   "metadata": {},
   "outputs": [
    {
     "data": {
      "text/plain": [
       "County\n",
       "False    31521\n",
       "True       504\n",
       "Name: count, dtype: int64"
      ]
     },
     "execution_count": 78,
     "metadata": {},
     "output_type": "execute_result"
    }
   ],
   "source": [
    "data['County'].isnull().value_counts()"
   ]
  },
  {
   "cell_type": "code",
   "execution_count": null,
   "metadata": {},
   "outputs": [],
   "source": []
  },
  {
   "cell_type": "code",
   "execution_count": 79,
   "metadata": {},
   "outputs": [
    {
     "data": {
      "text/html": [
       "<div>\n",
       "<style scoped>\n",
       "    .dataframe tbody tr th:only-of-type {\n",
       "        vertical-align: middle;\n",
       "    }\n",
       "\n",
       "    .dataframe tbody tr th {\n",
       "        vertical-align: top;\n",
       "    }\n",
       "\n",
       "    .dataframe thead th {\n",
       "        text-align: right;\n",
       "    }\n",
       "</style>\n",
       "<table border=\"1\" class=\"dataframe\">\n",
       "  <thead>\n",
       "    <tr style=\"text-align: right;\">\n",
       "      <th></th>\n",
       "      <th>Location Code</th>\n",
       "      <th>County</th>\n",
       "      <th>Area Name</th>\n",
       "      <th>Region</th>\n",
       "      <th>Year Reported</th>\n",
       "      <th>Number Overweight</th>\n",
       "      <th>Percent Overweight</th>\n",
       "      <th>Number Obese</th>\n",
       "      <th>Percent Obese</th>\n",
       "      <th>Number Overweight or Obese</th>\n",
       "      <th>Percent Overweight or Obese</th>\n",
       "      <th>Grade Level</th>\n",
       "      <th>Number Healthy Weight</th>\n",
       "      <th>Percent Healthy Weight</th>\n",
       "      <th>Sex</th>\n",
       "    </tr>\n",
       "  </thead>\n",
       "  <tbody>\n",
       "    <tr>\n",
       "      <th>0</th>\n",
       "      <td>0</td>\n",
       "      <td>STATEWIDE (EXCLUDING NYC)</td>\n",
       "      <td>STATEWIDE (EXCLUDING NYC)</td>\n",
       "      <td>STATEWIDE (EXCLUDING NYC)</td>\n",
       "      <td>2010-2012</td>\n",
       "      <td>77813.0</td>\n",
       "      <td>16.2</td>\n",
       "      <td>84578.0</td>\n",
       "      <td>17.6</td>\n",
       "      <td>162391.0</td>\n",
       "      <td>33.7</td>\n",
       "      <td>DISTRICT TOTAL</td>\n",
       "      <td>308259.0</td>\n",
       "      <td>0.641</td>\n",
       "      <td>ALL</td>\n",
       "    </tr>\n",
       "    <tr>\n",
       "      <th>1</th>\n",
       "      <td>0</td>\n",
       "      <td>STATEWIDE (EXCLUDING NYC)</td>\n",
       "      <td>STATEWIDE (EXCLUDING NYC)</td>\n",
       "      <td>STATEWIDE (EXCLUDING NYC)</td>\n",
       "      <td>2010-2012</td>\n",
       "      <td>38536.0</td>\n",
       "      <td>16.3</td>\n",
       "      <td>38261.0</td>\n",
       "      <td>16.2</td>\n",
       "      <td>76797.0</td>\n",
       "      <td>32.6</td>\n",
       "      <td>DISTRICT TOTAL</td>\n",
       "      <td>153898.0</td>\n",
       "      <td>0.653</td>\n",
       "      <td>FEMALE</td>\n",
       "    </tr>\n",
       "    <tr>\n",
       "      <th>2</th>\n",
       "      <td>0</td>\n",
       "      <td>STATEWIDE (EXCLUDING NYC)</td>\n",
       "      <td>STATEWIDE (EXCLUDING NYC)</td>\n",
       "      <td>STATEWIDE (EXCLUDING NYC)</td>\n",
       "      <td>2010-2012</td>\n",
       "      <td>39277.0</td>\n",
       "      <td>16.0</td>\n",
       "      <td>46317.0</td>\n",
       "      <td>18.9</td>\n",
       "      <td>85594.0</td>\n",
       "      <td>34.9</td>\n",
       "      <td>DISTRICT TOTAL</td>\n",
       "      <td>154361.0</td>\n",
       "      <td>0.629</td>\n",
       "      <td>MALE</td>\n",
       "    </tr>\n",
       "    <tr>\n",
       "      <th>3</th>\n",
       "      <td>0</td>\n",
       "      <td>STATEWIDE (EXCLUDING NYC)</td>\n",
       "      <td>STATEWIDE (EXCLUDING NYC)</td>\n",
       "      <td>STATEWIDE (EXCLUDING NYC)</td>\n",
       "      <td>2010-2012</td>\n",
       "      <td>44970.0</td>\n",
       "      <td>15.8</td>\n",
       "      <td>48843.0</td>\n",
       "      <td>17.2</td>\n",
       "      <td>93813.0</td>\n",
       "      <td>33.0</td>\n",
       "      <td>ELEMENTARY</td>\n",
       "      <td>184195.0</td>\n",
       "      <td>0.648</td>\n",
       "      <td>ALL</td>\n",
       "    </tr>\n",
       "    <tr>\n",
       "      <th>4</th>\n",
       "      <td>0</td>\n",
       "      <td>STATEWIDE (EXCLUDING NYC)</td>\n",
       "      <td>STATEWIDE (EXCLUDING NYC)</td>\n",
       "      <td>STATEWIDE (EXCLUDING NYC)</td>\n",
       "      <td>2010-2012</td>\n",
       "      <td>22092.0</td>\n",
       "      <td>15.9</td>\n",
       "      <td>22464.0</td>\n",
       "      <td>16.2</td>\n",
       "      <td>44556.0</td>\n",
       "      <td>32.2</td>\n",
       "      <td>ELEMENTARY</td>\n",
       "      <td>90927.0</td>\n",
       "      <td>0.656</td>\n",
       "      <td>FEMALE</td>\n",
       "    </tr>\n",
       "    <tr>\n",
       "      <th>...</th>\n",
       "      <td>...</td>\n",
       "      <td>...</td>\n",
       "      <td>...</td>\n",
       "      <td>...</td>\n",
       "      <td>...</td>\n",
       "      <td>...</td>\n",
       "      <td>...</td>\n",
       "      <td>...</td>\n",
       "      <td>...</td>\n",
       "      <td>...</td>\n",
       "      <td>...</td>\n",
       "      <td>...</td>\n",
       "      <td>...</td>\n",
       "      <td>...</td>\n",
       "      <td>...</td>\n",
       "    </tr>\n",
       "    <tr>\n",
       "      <th>32020</th>\n",
       "      <td>680801</td>\n",
       "      <td>YATES</td>\n",
       "      <td>DUNDEE CENTRAL SCHOOL DISTRICT</td>\n",
       "      <td>0</td>\n",
       "      <td>2018-2019</td>\n",
       "      <td>12.0</td>\n",
       "      <td>17.9</td>\n",
       "      <td>17.0</td>\n",
       "      <td>25.4</td>\n",
       "      <td>29.0</td>\n",
       "      <td>43.3</td>\n",
       "      <td>ELEMENTARY</td>\n",
       "      <td>38.0</td>\n",
       "      <td>0.567</td>\n",
       "      <td>FEMALE</td>\n",
       "    </tr>\n",
       "    <tr>\n",
       "      <th>32021</th>\n",
       "      <td>680801</td>\n",
       "      <td>YATES</td>\n",
       "      <td>DUNDEE CENTRAL SCHOOL DISTRICT</td>\n",
       "      <td>0</td>\n",
       "      <td>2018-2019</td>\n",
       "      <td>14.0</td>\n",
       "      <td>19.2</td>\n",
       "      <td>17.0</td>\n",
       "      <td>23.3</td>\n",
       "      <td>31.0</td>\n",
       "      <td>42.5</td>\n",
       "      <td>ELEMENTARY</td>\n",
       "      <td>42.0</td>\n",
       "      <td>0.575</td>\n",
       "      <td>MALE</td>\n",
       "    </tr>\n",
       "    <tr>\n",
       "      <th>32022</th>\n",
       "      <td>680801</td>\n",
       "      <td>YATES</td>\n",
       "      <td>DUNDEE CENTRAL SCHOOL DISTRICT</td>\n",
       "      <td>0</td>\n",
       "      <td>2018-2019</td>\n",
       "      <td>15.0</td>\n",
       "      <td>16.7</td>\n",
       "      <td>21.0</td>\n",
       "      <td>23.3</td>\n",
       "      <td>36.0</td>\n",
       "      <td>40.0</td>\n",
       "      <td>MIDDLE/HIGH</td>\n",
       "      <td>54.0</td>\n",
       "      <td>0.600</td>\n",
       "      <td>ALL</td>\n",
       "    </tr>\n",
       "    <tr>\n",
       "      <th>32023</th>\n",
       "      <td>680801</td>\n",
       "      <td>YATES</td>\n",
       "      <td>DUNDEE CENTRAL SCHOOL DISTRICT</td>\n",
       "      <td>0</td>\n",
       "      <td>2018-2019</td>\n",
       "      <td>7.0</td>\n",
       "      <td>16.3</td>\n",
       "      <td>7.0</td>\n",
       "      <td>16.3</td>\n",
       "      <td>14.0</td>\n",
       "      <td>32.6</td>\n",
       "      <td>MIDDLE/HIGH</td>\n",
       "      <td>29.0</td>\n",
       "      <td>0.674</td>\n",
       "      <td>FEMALE</td>\n",
       "    </tr>\n",
       "    <tr>\n",
       "      <th>32024</th>\n",
       "      <td>680801</td>\n",
       "      <td>YATES</td>\n",
       "      <td>DUNDEE CENTRAL SCHOOL DISTRICT</td>\n",
       "      <td>0</td>\n",
       "      <td>2018-2019</td>\n",
       "      <td>8.0</td>\n",
       "      <td>17.0</td>\n",
       "      <td>14.0</td>\n",
       "      <td>29.8</td>\n",
       "      <td>22.0</td>\n",
       "      <td>46.8</td>\n",
       "      <td>MIDDLE/HIGH</td>\n",
       "      <td>25.0</td>\n",
       "      <td>0.532</td>\n",
       "      <td>MALE</td>\n",
       "    </tr>\n",
       "  </tbody>\n",
       "</table>\n",
       "<p>32025 rows × 15 columns</p>\n",
       "</div>"
      ],
      "text/plain": [
       "       Location Code                     County  \\\n",
       "0                  0  STATEWIDE (EXCLUDING NYC)   \n",
       "1                  0  STATEWIDE (EXCLUDING NYC)   \n",
       "2                  0  STATEWIDE (EXCLUDING NYC)   \n",
       "3                  0  STATEWIDE (EXCLUDING NYC)   \n",
       "4                  0  STATEWIDE (EXCLUDING NYC)   \n",
       "...              ...                        ...   \n",
       "32020         680801                      YATES   \n",
       "32021         680801                      YATES   \n",
       "32022         680801                      YATES   \n",
       "32023         680801                      YATES   \n",
       "32024         680801                      YATES   \n",
       "\n",
       "                            Area Name                     Region  \\\n",
       "0           STATEWIDE (EXCLUDING NYC)  STATEWIDE (EXCLUDING NYC)   \n",
       "1           STATEWIDE (EXCLUDING NYC)  STATEWIDE (EXCLUDING NYC)   \n",
       "2           STATEWIDE (EXCLUDING NYC)  STATEWIDE (EXCLUDING NYC)   \n",
       "3           STATEWIDE (EXCLUDING NYC)  STATEWIDE (EXCLUDING NYC)   \n",
       "4           STATEWIDE (EXCLUDING NYC)  STATEWIDE (EXCLUDING NYC)   \n",
       "...                               ...                        ...   \n",
       "32020  DUNDEE CENTRAL SCHOOL DISTRICT                          0   \n",
       "32021  DUNDEE CENTRAL SCHOOL DISTRICT                          0   \n",
       "32022  DUNDEE CENTRAL SCHOOL DISTRICT                          0   \n",
       "32023  DUNDEE CENTRAL SCHOOL DISTRICT                          0   \n",
       "32024  DUNDEE CENTRAL SCHOOL DISTRICT                          0   \n",
       "\n",
       "      Year Reported   Number Overweight  Percent Overweight  Number Obese  \\\n",
       "0          2010-2012            77813.0                16.2       84578.0   \n",
       "1          2010-2012            38536.0                16.3       38261.0   \n",
       "2          2010-2012            39277.0                16.0       46317.0   \n",
       "3          2010-2012            44970.0                15.8       48843.0   \n",
       "4          2010-2012            22092.0                15.9       22464.0   \n",
       "...              ...                ...                 ...           ...   \n",
       "32020      2018-2019               12.0                17.9          17.0   \n",
       "32021      2018-2019               14.0                19.2          17.0   \n",
       "32022      2018-2019               15.0                16.7          21.0   \n",
       "32023      2018-2019                7.0                16.3           7.0   \n",
       "32024      2018-2019                8.0                17.0          14.0   \n",
       "\n",
       "       Percent Obese  Number Overweight or Obese  Percent Overweight or Obese  \\\n",
       "0               17.6                    162391.0                         33.7   \n",
       "1               16.2                     76797.0                         32.6   \n",
       "2               18.9                     85594.0                         34.9   \n",
       "3               17.2                     93813.0                         33.0   \n",
       "4               16.2                     44556.0                         32.2   \n",
       "...              ...                         ...                          ...   \n",
       "32020           25.4                        29.0                         43.3   \n",
       "32021           23.3                        31.0                         42.5   \n",
       "32022           23.3                        36.0                         40.0   \n",
       "32023           16.3                        14.0                         32.6   \n",
       "32024           29.8                        22.0                         46.8   \n",
       "\n",
       "          Grade Level  Number Healthy Weight  Percent Healthy Weight     Sex  \n",
       "0      DISTRICT TOTAL               308259.0                   0.641     ALL  \n",
       "1      DISTRICT TOTAL               153898.0                   0.653  FEMALE  \n",
       "2      DISTRICT TOTAL               154361.0                   0.629    MALE  \n",
       "3          ELEMENTARY               184195.0                   0.648     ALL  \n",
       "4          ELEMENTARY                90927.0                   0.656  FEMALE  \n",
       "...               ...                    ...                     ...     ...  \n",
       "32020      ELEMENTARY                   38.0                   0.567  FEMALE  \n",
       "32021      ELEMENTARY                   42.0                   0.575    MALE  \n",
       "32022     MIDDLE/HIGH                   54.0                   0.600     ALL  \n",
       "32023     MIDDLE/HIGH                   29.0                   0.674  FEMALE  \n",
       "32024     MIDDLE/HIGH                   25.0                   0.532    MALE  \n",
       "\n",
       "[32025 rows x 15 columns]"
      ]
     },
     "execution_count": 79,
     "metadata": {},
     "output_type": "execute_result"
    }
   ],
   "source": [
    "data.fillna(0)"
   ]
  },
  {
   "cell_type": "code",
   "execution_count": 80,
   "metadata": {},
   "outputs": [
    {
     "data": {
      "text/plain": [
       "County\n",
       "False    31521\n",
       "True       504\n",
       "Name: count, dtype: int64"
      ]
     },
     "execution_count": 80,
     "metadata": {},
     "output_type": "execute_result"
    }
   ],
   "source": [
    "data['County'].isnull().value_counts()"
   ]
  },
  {
   "cell_type": "code",
   "execution_count": 81,
   "metadata": {},
   "outputs": [
    {
     "data": {
      "text/html": [
       "<div>\n",
       "<style scoped>\n",
       "    .dataframe tbody tr th:only-of-type {\n",
       "        vertical-align: middle;\n",
       "    }\n",
       "\n",
       "    .dataframe tbody tr th {\n",
       "        vertical-align: top;\n",
       "    }\n",
       "\n",
       "    .dataframe thead th {\n",
       "        text-align: right;\n",
       "    }\n",
       "</style>\n",
       "<table border=\"1\" class=\"dataframe\">\n",
       "  <thead>\n",
       "    <tr style=\"text-align: right;\">\n",
       "      <th></th>\n",
       "      <th>Location Code</th>\n",
       "      <th>County</th>\n",
       "      <th>Area Name</th>\n",
       "      <th>Region</th>\n",
       "      <th>Year Reported</th>\n",
       "      <th>Number Overweight</th>\n",
       "      <th>Percent Overweight</th>\n",
       "      <th>Number Obese</th>\n",
       "      <th>Percent Obese</th>\n",
       "      <th>Number Overweight or Obese</th>\n",
       "      <th>Percent Overweight or Obese</th>\n",
       "      <th>Grade Level</th>\n",
       "      <th>Number Healthy Weight</th>\n",
       "      <th>Percent Healthy Weight</th>\n",
       "      <th>Sex</th>\n",
       "    </tr>\n",
       "  </thead>\n",
       "  <tbody>\n",
       "    <tr>\n",
       "      <th>3</th>\n",
       "      <td>0</td>\n",
       "      <td>STATEWIDE (EXCLUDING NYC)</td>\n",
       "      <td>STATEWIDE (EXCLUDING NYC)</td>\n",
       "      <td>STATEWIDE (EXCLUDING NYC)</td>\n",
       "      <td>2010-2012</td>\n",
       "      <td>44970.0</td>\n",
       "      <td>15.8</td>\n",
       "      <td>48843.0</td>\n",
       "      <td>17.2</td>\n",
       "      <td>93813.0</td>\n",
       "      <td>33.0</td>\n",
       "      <td>ELEMENTARY</td>\n",
       "      <td>184195.0</td>\n",
       "      <td>0.648</td>\n",
       "      <td>ALL</td>\n",
       "    </tr>\n",
       "    <tr>\n",
       "      <th>4</th>\n",
       "      <td>0</td>\n",
       "      <td>STATEWIDE (EXCLUDING NYC)</td>\n",
       "      <td>STATEWIDE (EXCLUDING NYC)</td>\n",
       "      <td>STATEWIDE (EXCLUDING NYC)</td>\n",
       "      <td>2010-2012</td>\n",
       "      <td>22092.0</td>\n",
       "      <td>15.9</td>\n",
       "      <td>22464.0</td>\n",
       "      <td>16.2</td>\n",
       "      <td>44556.0</td>\n",
       "      <td>32.2</td>\n",
       "      <td>ELEMENTARY</td>\n",
       "      <td>90927.0</td>\n",
       "      <td>0.656</td>\n",
       "      <td>FEMALE</td>\n",
       "    </tr>\n",
       "    <tr>\n",
       "      <th>5</th>\n",
       "      <td>0</td>\n",
       "      <td>STATEWIDE (EXCLUDING NYC)</td>\n",
       "      <td>STATEWIDE (EXCLUDING NYC)</td>\n",
       "      <td>STATEWIDE (EXCLUDING NYC)</td>\n",
       "      <td>2010-2012</td>\n",
       "      <td>22878.0</td>\n",
       "      <td>15.7</td>\n",
       "      <td>26379.0</td>\n",
       "      <td>18.1</td>\n",
       "      <td>49257.0</td>\n",
       "      <td>33.8</td>\n",
       "      <td>ELEMENTARY</td>\n",
       "      <td>93268.0</td>\n",
       "      <td>0.640</td>\n",
       "      <td>MALE</td>\n",
       "    </tr>\n",
       "    <tr>\n",
       "      <th>12</th>\n",
       "      <td>0</td>\n",
       "      <td>STATEWIDE (EXCLUDING NYC)</td>\n",
       "      <td>STATEWIDE (EXCLUDING NYC)</td>\n",
       "      <td>STATEWIDE (EXCLUDING NYC)</td>\n",
       "      <td>2011-2013</td>\n",
       "      <td>44215.0</td>\n",
       "      <td>15.9</td>\n",
       "      <td>46596.0</td>\n",
       "      <td>16.7</td>\n",
       "      <td>90811.0</td>\n",
       "      <td>32.6</td>\n",
       "      <td>ELEMENTARY</td>\n",
       "      <td>180917.0</td>\n",
       "      <td>0.649</td>\n",
       "      <td>ALL</td>\n",
       "    </tr>\n",
       "    <tr>\n",
       "      <th>13</th>\n",
       "      <td>0</td>\n",
       "      <td>STATEWIDE (EXCLUDING NYC)</td>\n",
       "      <td>STATEWIDE (EXCLUDING NYC)</td>\n",
       "      <td>STATEWIDE (EXCLUDING NYC)</td>\n",
       "      <td>2011-2013</td>\n",
       "      <td>21898.0</td>\n",
       "      <td>16.0</td>\n",
       "      <td>21288.0</td>\n",
       "      <td>15.6</td>\n",
       "      <td>43186.0</td>\n",
       "      <td>31.6</td>\n",
       "      <td>ELEMENTARY</td>\n",
       "      <td>89663.0</td>\n",
       "      <td>0.657</td>\n",
       "      <td>FEMALE</td>\n",
       "    </tr>\n",
       "    <tr>\n",
       "      <th>...</th>\n",
       "      <td>...</td>\n",
       "      <td>...</td>\n",
       "      <td>...</td>\n",
       "      <td>...</td>\n",
       "      <td>...</td>\n",
       "      <td>...</td>\n",
       "      <td>...</td>\n",
       "      <td>...</td>\n",
       "      <td>...</td>\n",
       "      <td>...</td>\n",
       "      <td>...</td>\n",
       "      <td>...</td>\n",
       "      <td>...</td>\n",
       "      <td>...</td>\n",
       "      <td>...</td>\n",
       "    </tr>\n",
       "    <tr>\n",
       "      <th>32011</th>\n",
       "      <td>680801</td>\n",
       "      <td>YATES</td>\n",
       "      <td>DUNDEE CENTRAL SCHOOL DISTRICT</td>\n",
       "      <td>NaN</td>\n",
       "      <td>2016-2017</td>\n",
       "      <td>15.0</td>\n",
       "      <td>20.8</td>\n",
       "      <td>14.0</td>\n",
       "      <td>19.4</td>\n",
       "      <td>29.0</td>\n",
       "      <td>40.3</td>\n",
       "      <td>ELEMENTARY</td>\n",
       "      <td>43.0</td>\n",
       "      <td>0.597</td>\n",
       "      <td>FEMALE</td>\n",
       "    </tr>\n",
       "    <tr>\n",
       "      <th>32012</th>\n",
       "      <td>680801</td>\n",
       "      <td>YATES</td>\n",
       "      <td>DUNDEE CENTRAL SCHOOL DISTRICT</td>\n",
       "      <td>NaN</td>\n",
       "      <td>2016-2017</td>\n",
       "      <td>17.0</td>\n",
       "      <td>20.5</td>\n",
       "      <td>17.0</td>\n",
       "      <td>20.5</td>\n",
       "      <td>34.0</td>\n",
       "      <td>41.0</td>\n",
       "      <td>ELEMENTARY</td>\n",
       "      <td>49.0</td>\n",
       "      <td>0.590</td>\n",
       "      <td>MALE</td>\n",
       "    </tr>\n",
       "    <tr>\n",
       "      <th>32019</th>\n",
       "      <td>680801</td>\n",
       "      <td>YATES</td>\n",
       "      <td>DUNDEE CENTRAL SCHOOL DISTRICT</td>\n",
       "      <td>NaN</td>\n",
       "      <td>2018-2019</td>\n",
       "      <td>26.0</td>\n",
       "      <td>18.6</td>\n",
       "      <td>34.0</td>\n",
       "      <td>24.3</td>\n",
       "      <td>60.0</td>\n",
       "      <td>42.9</td>\n",
       "      <td>ELEMENTARY</td>\n",
       "      <td>80.0</td>\n",
       "      <td>0.571</td>\n",
       "      <td>ALL</td>\n",
       "    </tr>\n",
       "    <tr>\n",
       "      <th>32020</th>\n",
       "      <td>680801</td>\n",
       "      <td>YATES</td>\n",
       "      <td>DUNDEE CENTRAL SCHOOL DISTRICT</td>\n",
       "      <td>NaN</td>\n",
       "      <td>2018-2019</td>\n",
       "      <td>12.0</td>\n",
       "      <td>17.9</td>\n",
       "      <td>17.0</td>\n",
       "      <td>25.4</td>\n",
       "      <td>29.0</td>\n",
       "      <td>43.3</td>\n",
       "      <td>ELEMENTARY</td>\n",
       "      <td>38.0</td>\n",
       "      <td>0.567</td>\n",
       "      <td>FEMALE</td>\n",
       "    </tr>\n",
       "    <tr>\n",
       "      <th>32021</th>\n",
       "      <td>680801</td>\n",
       "      <td>YATES</td>\n",
       "      <td>DUNDEE CENTRAL SCHOOL DISTRICT</td>\n",
       "      <td>NaN</td>\n",
       "      <td>2018-2019</td>\n",
       "      <td>14.0</td>\n",
       "      <td>19.2</td>\n",
       "      <td>17.0</td>\n",
       "      <td>23.3</td>\n",
       "      <td>31.0</td>\n",
       "      <td>42.5</td>\n",
       "      <td>ELEMENTARY</td>\n",
       "      <td>42.0</td>\n",
       "      <td>0.575</td>\n",
       "      <td>MALE</td>\n",
       "    </tr>\n",
       "  </tbody>\n",
       "</table>\n",
       "<p>10671 rows × 15 columns</p>\n",
       "</div>"
      ],
      "text/plain": [
       "       Location Code                     County  \\\n",
       "3                  0  STATEWIDE (EXCLUDING NYC)   \n",
       "4                  0  STATEWIDE (EXCLUDING NYC)   \n",
       "5                  0  STATEWIDE (EXCLUDING NYC)   \n",
       "12                 0  STATEWIDE (EXCLUDING NYC)   \n",
       "13                 0  STATEWIDE (EXCLUDING NYC)   \n",
       "...              ...                        ...   \n",
       "32011         680801                      YATES   \n",
       "32012         680801                      YATES   \n",
       "32019         680801                      YATES   \n",
       "32020         680801                      YATES   \n",
       "32021         680801                      YATES   \n",
       "\n",
       "                            Area Name                     Region  \\\n",
       "3           STATEWIDE (EXCLUDING NYC)  STATEWIDE (EXCLUDING NYC)   \n",
       "4           STATEWIDE (EXCLUDING NYC)  STATEWIDE (EXCLUDING NYC)   \n",
       "5           STATEWIDE (EXCLUDING NYC)  STATEWIDE (EXCLUDING NYC)   \n",
       "12          STATEWIDE (EXCLUDING NYC)  STATEWIDE (EXCLUDING NYC)   \n",
       "13          STATEWIDE (EXCLUDING NYC)  STATEWIDE (EXCLUDING NYC)   \n",
       "...                               ...                        ...   \n",
       "32011  DUNDEE CENTRAL SCHOOL DISTRICT                        NaN   \n",
       "32012  DUNDEE CENTRAL SCHOOL DISTRICT                        NaN   \n",
       "32019  DUNDEE CENTRAL SCHOOL DISTRICT                        NaN   \n",
       "32020  DUNDEE CENTRAL SCHOOL DISTRICT                        NaN   \n",
       "32021  DUNDEE CENTRAL SCHOOL DISTRICT                        NaN   \n",
       "\n",
       "      Year Reported   Number Overweight  Percent Overweight  Number Obese  \\\n",
       "3          2010-2012            44970.0                15.8       48843.0   \n",
       "4          2010-2012            22092.0                15.9       22464.0   \n",
       "5          2010-2012            22878.0                15.7       26379.0   \n",
       "12         2011-2013            44215.0                15.9       46596.0   \n",
       "13         2011-2013            21898.0                16.0       21288.0   \n",
       "...              ...                ...                 ...           ...   \n",
       "32011      2016-2017               15.0                20.8          14.0   \n",
       "32012      2016-2017               17.0                20.5          17.0   \n",
       "32019      2018-2019               26.0                18.6          34.0   \n",
       "32020      2018-2019               12.0                17.9          17.0   \n",
       "32021      2018-2019               14.0                19.2          17.0   \n",
       "\n",
       "       Percent Obese  Number Overweight or Obese  Percent Overweight or Obese  \\\n",
       "3               17.2                     93813.0                         33.0   \n",
       "4               16.2                     44556.0                         32.2   \n",
       "5               18.1                     49257.0                         33.8   \n",
       "12              16.7                     90811.0                         32.6   \n",
       "13              15.6                     43186.0                         31.6   \n",
       "...              ...                         ...                          ...   \n",
       "32011           19.4                        29.0                         40.3   \n",
       "32012           20.5                        34.0                         41.0   \n",
       "32019           24.3                        60.0                         42.9   \n",
       "32020           25.4                        29.0                         43.3   \n",
       "32021           23.3                        31.0                         42.5   \n",
       "\n",
       "      Grade Level  Number Healthy Weight  Percent Healthy Weight     Sex  \n",
       "3      ELEMENTARY               184195.0                   0.648     ALL  \n",
       "4      ELEMENTARY                90927.0                   0.656  FEMALE  \n",
       "5      ELEMENTARY                93268.0                   0.640    MALE  \n",
       "12     ELEMENTARY               180917.0                   0.649     ALL  \n",
       "13     ELEMENTARY                89663.0                   0.657  FEMALE  \n",
       "...           ...                    ...                     ...     ...  \n",
       "32011  ELEMENTARY                   43.0                   0.597  FEMALE  \n",
       "32012  ELEMENTARY                   49.0                   0.590    MALE  \n",
       "32019  ELEMENTARY                   80.0                   0.571     ALL  \n",
       "32020  ELEMENTARY                   38.0                   0.567  FEMALE  \n",
       "32021  ELEMENTARY                   42.0                   0.575    MALE  \n",
       "\n",
       "[10671 rows x 15 columns]"
      ]
     },
     "execution_count": 81,
     "metadata": {},
     "output_type": "execute_result"
    }
   ],
   "source": [
    "data[data['Grade Level'] == 'ELEMENTARY']"
   ]
  },
  {
   "cell_type": "code",
   "execution_count": 82,
   "metadata": {},
   "outputs": [
    {
     "data": {
      "text/plain": [
       "0    [STATEWIDE, (EXCLUDING, NYC)]\n",
       "1    [STATEWIDE, (EXCLUDING, NYC)]\n",
       "2    [STATEWIDE, (EXCLUDING, NYC)]\n",
       "3    [STATEWIDE, (EXCLUDING, NYC)]\n",
       "4    [STATEWIDE, (EXCLUDING, NYC)]\n",
       "Name: Area Name, dtype: object"
      ]
     },
     "execution_count": 82,
     "metadata": {},
     "output_type": "execute_result"
    }
   ],
   "source": [
    "data['Area Name'][0:5].str.split(' ')"
   ]
  },
  {
   "cell_type": "code",
   "execution_count": 85,
   "metadata": {},
   "outputs": [
    {
     "data": {
      "image/png": "[encoded data removed]",
      "text/plain": [
       "<Figure size 640x480 with 1 Axes>"
      ]
     },
     "metadata": {},
     "output_type": "display_data"
    }
   ],
   "source": [
    "fig,ax = plt.subplots(1,1)"
   ]
  },
  {
   "cell_type": "code",
   "execution_count": 89,
   "metadata": {},
   "outputs": [],
   "source": []
  },
  {
   "cell_type": "code",
   "execution_count": 90,
   "metadata": {},
   "outputs": [
    {
     "data": {
      "image/png": "[encoded data removed]",
      "text/plain": [
       "<Figure size 640x480 with 1 Axes>"
      ]
     },
     "metadata": {},
     "output_type": "display_data"
    }
   ],
   "source": [
    "fig, ax = plt.subplots(1, 1)\n",
    "x = [0, 1, 2, 3, 4, 5, 6\n",
    "n, p = 6, 0.5\n",
    "rv = binom(n, p)\n",
    "ax.vlines(x, 0, rv.pmf(x), colors='k', linestyles='-', lw=1,\n",
    " label='Probablity')\n",
    "ax.legend(loc='best', frameon=False)\n",
    "plt.show() "
   ]
  },
  {
   "cell_type": "code",
   "execution_count": 96,
   "metadata": {},
   "outputs": [
    {
     "data": {
      "image/png": "[encoded data removed]",
      "text/plain": [
       "<Figure size 640x480 with 1 Axes>"
      ]
     },
     "metadata": {},
     "output_type": "display_data"
    }
   ],
   "source": [
    "fig, ax = plt.subplots(1, 1)\n",
    "x = range(1000)\n",
    "n, p = 1000, 0.6\n",
    "rv = binom(n, p)\n",
    "ax.vlines(x, 0, rv.pmf(x), colors='k', linestyles='-', lw=1,\n",
    " label='Probablity')\n",
    "ax.legend(loc='best', frameon=False)\n",
    "plt.show() "
   ]
  },
  {
   "cell_type": "code",
   "execution_count": 100,
   "metadata": {},
   "outputs": [
    {
     "data": {
      "text/plain": [
       "array([1, 0, 1, 1, 1, 0, 0, 1, 1, 0, 0, 0, 0, 1, 1, 1, 1, 1, 1, 0, 0, 1,\n",
       "       1, 0, 1, 1, 1, 1, 1, 1, 1, 1, 1, 1, 0, 0, 1, 1, 1, 0, 0, 1, 0, 1,\n",
       "       1, 0, 1, 1, 0, 1, 1, 1, 1, 1, 0, 1, 1, 1, 1, 1, 1, 1, 0, 0, 1, 0,\n",
       "       0, 1, 1, 0, 1, 1, 0, 1, 1, 1, 1, 0, 0, 1, 0, 1, 1, 0, 1, 0, 1, 1,\n",
       "       1, 0, 1, 1, 1, 1, 1, 1, 1, 0, 1, 0])"
      ]
     },
     "execution_count": 100,
     "metadata": {},
     "output_type": "execute_result"
    }
   ],
   "source": [
    "stats.bernoulli.rvs(0.7, size=100)"
   ]
  },
  {
   "cell_type": "code",
   "execution_count": 101,
   "metadata": {},
   "outputs": [],
   "source": [
    "classscore = np.random.normal(50, 10, 60).round()"
   ]
  },
  {
   "cell_type": "code",
   "execution_count": 102,
   "metadata": {},
   "outputs": [
    {
     "data": {
      "text/plain": [
       "array([53., 55., 39., 50., 45., 34., 50., 50., 58., 58., 52., 46., 49.,\n",
       "       63., 64., 50., 29., 43., 45., 48., 52., 67., 59., 40., 40., 39.,\n",
       "       41., 41., 42., 34., 49., 55., 30., 59., 60., 50., 63., 45., 53.,\n",
       "       60., 50., 49., 53., 52., 58., 45., 48., 36., 54., 48., 56., 46.,\n",
       "       51., 38., 56., 50., 42., 39., 51., 44.])"
      ]
     },
     "execution_count": 102,
     "metadata": {},
     "output_type": "execute_result"
    }
   ],
   "source": [
    "classscore"
   ]
  },
  {
   "cell_type": "code",
   "execution_count": 105,
   "metadata": {},
   "outputs": [
    {
     "data": {
      "image/png": "[encoded data removed]",
      "text/plain": [
       "<Figure size 640x480 with 1 Axes>"
      ]
     },
     "metadata": {},
     "output_type": "display_data"
    }
   ],
   "source": [
    "plt.hist(classscore, 30)\n",
    "plt.show()"
   ]
  },
  {
   "cell_type": "code",
   "execution_count": 106,
   "metadata": {},
   "outputs": [
    {
     "data": {
      "text/plain": [
       "array([ 0.50342552,  0.74126434, -1.16144627,  0.14666728, -0.44792979,\n",
       "       -1.75604333,  0.14666728,  0.14666728,  1.09802258,  1.09802258,\n",
       "        0.3845061 , -0.32901038,  0.02774786,  1.69261965,  1.81153906,\n",
       "        0.14666728, -2.3506404 , -0.68576862, -0.44792979, -0.09117155,\n",
       "        0.3845061 ,  2.1682973 ,  1.21694199, -1.04252685, -1.04252685,\n",
       "       -1.16144627, -0.92360744, -0.92360744, -0.80468803, -1.75604333,\n",
       "        0.02774786,  0.74126434, -2.23172099,  1.21694199,  1.33586141,\n",
       "        0.14666728,  1.69261965, -0.44792979,  0.50342552,  1.33586141,\n",
       "        0.14666728,  0.02774786,  0.50342552,  0.3845061 ,  1.09802258,\n",
       "       -0.44792979, -0.09117155, -1.51820451,  0.62234493, -0.09117155,\n",
       "        0.86018375, -0.32901038,  0.26558669, -1.28036568,  0.86018375,\n",
       "        0.14666728, -0.80468803, -1.16144627,  0.26558669, -0.5668492 ])"
      ]
     },
     "execution_count": 106,
     "metadata": {},
     "output_type": "execute_result"
    }
   ],
   "source": [
    "stats.zscore(classscore)"
   ]
  },
  {
   "cell_type": "code",
   "execution_count": 107,
   "metadata": {},
   "outputs": [
    {
     "data": {
      "text/plain": [
       "0.8416212335729143"
      ]
     },
     "execution_count": 107,
     "metadata": {},
     "output_type": "execute_result"
    }
   ],
   "source": [
    "stats.norm.ppf(0.80)"
   ]
  },
  {
   "cell_type": "code",
   "execution_count": null,
   "metadata": {},
   "outputs": [],
   "source": []
  }
 ],
 "metadata": {
  "kernelspec": {
   "display_name": "Python 3 (ipykernel)",
   "language": "python",
   "name": "python3"
  },
  "language_info": {
   "codemirror_mode": {
    "name": "ipython",
    "version": 3
   },
   "file_extension": ".py",
   "mimetype": "text/x-python",
   "name": "python",
   "nbconvert_exporter": "python",
   "pygments_lexer": "ipython3",
   "version": "3.11.4"
  }
 },
 "nbformat": 4,
 "nbformat_minor": 4
}
