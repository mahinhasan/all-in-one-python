{
 "cells": [
  {
   "cell_type": "code",
   "execution_count": 1,
   "id": "18662aba-9531-43e9-84b4-b28c603f9d37",
   "metadata": {},
   "outputs": [],
   "source": [
    "from random import seed\n",
    "from random import randrange\n",
    "import pandas as pd\n",
    "import matplotlib.pyplot as pd\n"
   ]
  },
  {
   "cell_type": "code",
   "execution_count": 2,
   "id": "b4feae30-ad0a-4d14-bb39-ddec7bda74b4",
   "metadata": {},
   "outputs": [],
   "source": [
    "def train_test_split(dataset,split=0.60):\n",
    "    train = list()\n",
    "    train_size = split * len(dataset)\n",
    "    dataset_copy = list(dataset)\n",
    "    while len(train) < train_size:\n",
    "        index = randrange(len(dataset_copy))\n",
    "        train.append(dataset_copy.pop(index))\n",
    "\n",
    "    return train,dataset_copy\n",
    "\n",
    "\n",
    "seed(1)\n",
    "dataset = [[1], [2], [3], [4], [5], [6], [7], [8], [9], [10]]\n",
    "train,test = train_test_split(dataset)\n"
   ]
  },
  {
   "cell_type": "code",
   "execution_count": 3,
   "id": "1b00f4ad-698e-4071-a16b-90ff27dece43",
   "metadata": {},
   "outputs": [
    {
     "name": "stdout",
     "output_type": "stream",
     "text": [
      "[[3], [2], [7], [1], [8], [9]]\n"
     ]
    }
   ],
   "source": [
    "print(train)"
   ]
  },
  {
   "cell_type": "code",
   "execution_count": 4,
   "id": "c78fa3fb-7be2-4a4e-8264-12e8c8248243",
   "metadata": {},
   "outputs": [
    {
     "name": "stdout",
     "output_type": "stream",
     "text": [
      "[[4], [5], [6], [10]]\n"
     ]
    }
   ],
   "source": [
    "print(test)"
   ]
  },
  {
   "cell_type": "markdown",
   "id": "a4675a39-a0a9-4a66-88ab-0eb7f633ea74",
   "metadata": {},
   "source": [
    "# Split a dataset into k folds"
   ]
  },
  {
   "cell_type": "code",
   "execution_count": 6,
   "id": "1bf1aba3-4542-4d9f-a52f-89c12e58c67f",
   "metadata": {},
   "outputs": [],
   "source": [
    "def cross_validation_split(dataset,folds=3):\n",
    "    dataset_split = list()\n",
    "    dataset_copy = list(dataset)\n",
    "    fold_size = int(len(dataset)/folds)\n",
    "\n",
    "    for _ in range(folds):\n",
    "        fold = list()\n",
    "        while len(fold) < fold_size:\n",
    "            index = randrange(len(dataset_copy))\n",
    "            fold.append(dataset_copy.pop(index))\n",
    "        dataset_split.append(fold)\n",
    "    return dataset_split"
   ]
  },
  {
   "cell_type": "code",
   "execution_count": 7,
   "id": "9686deba-23bc-40f3-987a-87e05932ca42",
   "metadata": {},
   "outputs": [
    {
     "name": "stdout",
     "output_type": "stream",
     "text": [
      "[[[3], [2]], [[7], [1]], [[8], [9]], [[10], [6]]]\n"
     ]
    }
   ],
   "source": [
    "seed(1)\n",
    "folds = cross_validation_split(dataset,4)\n",
    "print(folds)"
   ]
  },
  {
   "cell_type": "code",
   "execution_count": null,
   "id": "2c1b4944-91ab-4e2b-83a5-6a9f13ce6a78",
   "metadata": {},
   "outputs": [],
   "source": []
  }
 ],
 "metadata": {
  "kernelspec": {
   "display_name": "Python 3 (ipykernel)",
   "language": "python",
   "name": "python3"
  },
  "language_info": {
   "codemirror_mode": {
    "name": "ipython",
    "version": 3
   },
   "file_extension": ".py",
   "mimetype": "text/x-python",
   "name": "python",
   "nbconvert_exporter": "python",
   "pygments_lexer": "ipython3",
   "version": "3.11.4"
  }
 },
 "nbformat": 4,
 "nbformat_minor": 5
}
